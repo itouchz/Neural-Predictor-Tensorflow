{
 "cells": [
  {
   "cell_type": "code",
   "execution_count": 1,
   "metadata": {},
   "outputs": [],
   "source": [
    "import os\n",
    "import random\n",
    "import yaml\n",
    "import numpy as np\n",
    "import pandas as pd\n",
    "import tensorflow as tf\n",
    "import tensorflow_datasets as tfds\n",
    "\n",
    "from latency_estimator import LatencyEstimator\n",
    "from tqdm.notebook import tqdm\n",
    "from random_search import proxylessnas_random\n",
    "from search_spaces import load_proxylessnas"
   ]
  },
  {
   "cell_type": "code",
   "execution_count": 2,
   "metadata": {},
   "outputs": [],
   "source": [
    "os.environ[\"CUDA_DEVICE_ORDER\"] = \"PCI_BUS_ID\"\n",
    "os.environ[\"CUDA_VISIBLE_DEVICES\"] = \"0\"\n",
    "os.environ[\"TF_FORCE_GPU_ALLOW_GROWTH\"] = \"true\""
   ]
  },
  {
   "cell_type": "code",
   "execution_count": 3,
   "metadata": {},
   "outputs": [],
   "source": [
    "IMG_SIZE = (224, 224)\n",
    "def preprocess_image(image, label):\n",
    "    image = tf.cast(image, tf.float32)\n",
    "    image = tf.keras.applications.mobilenet_v2.preprocess_input(image)\n",
    "    return tf.image.resize(image, size=IMG_SIZE), label"
   ]
  },
  {
   "cell_type": "code",
   "execution_count": 4,
   "metadata": {},
   "outputs": [],
   "source": [
    "ds, info = tfds.load('caltech101', as_supervised=True, with_info=True)"
   ]
  },
  {
   "cell_type": "code",
   "execution_count": 5,
   "metadata": {},
   "outputs": [],
   "source": [
    "raw_train = ds['train']\n",
    "raw_test = ds['test']"
   ]
  },
  {
   "cell_type": "code",
   "execution_count": 6,
   "metadata": {},
   "outputs": [],
   "source": [
    "BATCH_SIZE = 128\n",
    "\n",
    "raw_valid, raw_test = raw_test.take(3000), raw_test.skip(3000)\n",
    "train, valid, test = raw_train.map(preprocess_image), raw_valid.map(preprocess_image), raw_test.map(preprocess_image)\n",
    "train_batches, valid_batches, test_batches = train.shuffle(1024).batch(BATCH_SIZE), valid.batch(BATCH_SIZE), test.batch(BATCH_SIZE)"
   ]
  },
  {
   "cell_type": "code",
   "execution_count": null,
   "metadata": {},
   "outputs": [
    {
     "data": {
      "application/vnd.jupyter.widget-view+json": {
       "model_id": "a07406cbbf8f4aa7ae243d7378307575",
       "version_major": 2,
       "version_minor": 0
      },
      "text/plain": [
       "  0%|          | 0/300 [00:00<?, ?it/s]"
      ]
     },
     "metadata": {},
     "output_type": "display_data"
    }
   ],
   "source": [
    "reps = proxylessnas_random(300)\n",
    "\n",
    "model_acc = []\n",
    "\n",
    "for rep in tqdm(reps):\n",
    "    tf.keras.backend.clear_session()\n",
    "    \n",
    "    model = load_proxylessnas()(weights=None, classes=info.features['label'].num_classes, arch_kernel=rep)\n",
    "    \n",
    "    lr_schedule = tf.keras.experimental.CosineDecay(0.001, decay_steps=10000)\n",
    "    model.compile(optimizer=tf.keras.optimizers.RMSprop(learning_rate=lr_schedule, rho=0.9, momentum=0.9, epsilon=0.1), loss='sparse_categorical_crossentropy', metrics=['accuracy'])\n",
    "    \n",
    "    model.fit(train_batches, epochs=90, verbose=0)\n",
    "    \n",
    "    _, accuracy = model.evaluate(valid_batches)\n",
    "    _, test_accuracy = model.evaluate(test_batches)\n",
    "    model_acc.append({'arch': rep, 'val_acc': accuracy, 'test_acc': test_accuracy})"
   ]
  },
  {
   "cell_type": "code",
   "execution_count": null,
   "metadata": {},
   "outputs": [],
   "source": [
    "np.save('outputs/model_acc_caltech.npy', model_acc)"
   ]
  }
 ],
 "metadata": {
  "kernelspec": {
   "display_name": "Python 3",
   "language": "python",
   "name": "python3"
  },
  "language_info": {
   "codemirror_mode": {
    "name": "ipython",
    "version": 3
   },
   "file_extension": ".py",
   "mimetype": "text/x-python",
   "name": "python",
   "nbconvert_exporter": "python",
   "pygments_lexer": "ipython3",
   "version": "3.9.4"
  }
 },
 "nbformat": 4,
 "nbformat_minor": 4
}
