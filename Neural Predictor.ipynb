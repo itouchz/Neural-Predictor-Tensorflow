{
 "cells": [
  {
   "cell_type": "code",
   "execution_count": 1,
   "id": "72d5304b-9727-435e-9f50-13a158b11c7e",
   "metadata": {},
   "outputs": [],
   "source": [
    "import os\n",
    "import random\n",
    "import numpy as np\n",
    "import pandas as pd\n",
    "import tensorflow as tf\n",
    "\n",
    "from tqdm.notebook import tqdm\n",
    "from nasbench import api\n",
    "from search_spaces import load_nasbench_101, load_proxylessnas, load_nasbench_nlp\n",
    "from random_search import run_random_search, random_spec\n",
    "from neural_predictor import classifier, regressor\n",
    "from input_preprocessing import preprocess_nasbench, preprocess_nasbench_nlp, preprocess_proxylessnas\n",
    "\n",
    "from scipy.stats import kendalltau as tau\n",
    "from sklearn.metrics import r2_score, mean_squared_error"
   ]
  },
  {
   "cell_type": "code",
   "execution_count": 2,
   "id": "e420274e-ad0f-4a57-810f-0900f3d3f6ec",
   "metadata": {},
   "outputs": [],
   "source": [
    "os.environ[\"CUDA_DEVICE_ORDER\"] = \"PCI_BUS_ID\"\n",
    "os.environ[\"CUDA_VISIBLE_DEVICES\"] = \"0\"\n",
    "os.environ[\"TF_FORCE_GPU_ALLOW_GROWTH\"] = \"true\""
   ]
  },
  {
   "cell_type": "markdown",
   "id": "3dfe1e10-83ee-4016-b286-f1187bef3453",
   "metadata": {},
   "source": [
    "### NAS-Bench-101"
   ]
  },
  {
   "cell_type": "code",
   "execution_count": 3,
   "id": "dc6344ae-881c-4eff-ab3f-46c6842d8a01",
   "metadata": {},
   "outputs": [
    {
     "name": "stdout",
     "output_type": "stream",
     "text": [
      "Loading dataset from file... This may take a few minutes...\n",
      "WARNING:tensorflow:From /data2/home/patara/Neural-Predictor-Tensorflow/nasbench/api.py:146: tf_record_iterator (from tensorflow.python.lib.io.tf_record) is deprecated and will be removed in a future version.\n",
      "Instructions for updating:\n",
      "Use eager execution and: \n",
      "`tf.data.TFRecordDataset(path)`\n",
      "Loaded dataset in 41 seconds\n"
     ]
    }
   ],
   "source": [
    "nasbench = load_nasbench_101()"
   ]
  },
  {
   "cell_type": "code",
   "execution_count": 4,
   "id": "0d6374a1-f86b-4fee-852d-31a7670199d3",
   "metadata": {},
   "outputs": [],
   "source": [
    "def get_N_samples(N):\n",
    "    models = []\n",
    "\n",
    "    for _ in range(N):\n",
    "        while True:\n",
    "            model = random_spec(nasbench)\n",
    "            if model not in models:\n",
    "                models.append(nasbench.query(model))\n",
    "                break\n",
    "                \n",
    "    return preprocess_nasbench(models)"
   ]
  },
  {
   "cell_type": "code",
   "execution_count": 85,
   "id": "43f54ca9-946d-4505-be97-00ba2db0fa16",
   "metadata": {},
   "outputs": [],
   "source": [
    "models = get_N_samples(119+100000)"
   ]
  },
  {
   "cell_type": "code",
   "execution_count": 86,
   "id": "4365ef56-196f-4ced-81cc-c58b0fbaae58",
   "metadata": {},
   "outputs": [],
   "source": [
    "reg = regressor([models['X'][:79], models['norm_A'][:79], models['norm_AT'][:79]], models['val_acc'][:79])"
   ]
  },
  {
   "cell_type": "code",
   "execution_count": 87,
   "id": "2596ad1b-3661-409a-b673-d5b051a180c4",
   "metadata": {},
   "outputs": [
    {
     "name": "stdout",
     "output_type": "stream",
     "text": [
      "0.5764910746410353 0.7550668670711767 0.963155304889156\n"
     ]
    }
   ],
   "source": [
    "y_pred = reg.predict([models['X'][:79], models['norm_A'][:79], models['norm_AT'][:79]])\n",
    "y_true = models['val_acc'][:79]\n",
    "print(mean_squared_error(y_true, y_pred), tau(y_true, y_pred).correlation, r2_score(y_true, y_pred))"
   ]
  },
  {
   "cell_type": "code",
   "execution_count": 88,
   "id": "cf10639d-9014-4224-9503-3c7105509a0c",
   "metadata": {},
   "outputs": [],
   "source": [
    "np.save('outputs/nasbench_y_true_train.npy', y_true)\n",
    "np.save('outputs/nasbench_y_pred_train.npy', y_pred)\n",
    "np.save('outputs/nasbench_mse_train.npy', mean_squared_error(y_true, y_pred))\n",
    "np.save('outputs/nasbench_tau_train.npy', tau(y_true, y_pred).correlation)\n",
    "np.save('outputs/nasbench_r2_train.npy', r2_score(y_true, y_pred))"
   ]
  },
  {
   "cell_type": "code",
   "execution_count": 89,
   "id": "cd407e24-1fe9-49d8-a6bf-87bdf6a9b7e5",
   "metadata": {},
   "outputs": [
    {
     "name": "stdout",
     "output_type": "stream",
     "text": [
      "2.6771875509159644 0.6835067426013202 0.842393547930542\n"
     ]
    }
   ],
   "source": [
    "y_pred = reg.predict([models['X'][79:119], models['norm_A'][79:119], models['norm_AT'][79:119]])\n",
    "y_true = models['val_acc'][79:119]\n",
    "print(mean_squared_error(y_true, y_pred), tau(y_true, y_pred).correlation, r2_score(y_true, y_pred))"
   ]
  },
  {
   "cell_type": "code",
   "execution_count": 90,
   "id": "acf21595-1d5b-4905-8404-2ec6dc803ade",
   "metadata": {},
   "outputs": [],
   "source": [
    "np.save('outputs/nasbench_y_true_val.npy', y_true)\n",
    "np.save('outputs/nasbench_y_pred_val.npy', y_pred)\n",
    "np.save('outputs/nasbench_mse_val.npy', mean_squared_error(y_true, y_pred))\n",
    "np.save('outputs/nasbench_tau_val.npy', tau(y_true, y_pred).correlation)\n",
    "np.save('outputs/nasbench_r2_val.npy', r2_score(y_true, y_pred))"
   ]
  },
  {
   "cell_type": "code",
   "execution_count": 91,
   "id": "2cd33aa6-897e-4f43-8ba3-94320fa3840c",
   "metadata": {},
   "outputs": [
    {
     "name": "stdout",
     "output_type": "stream",
     "text": [
      "7.555077454905181 0.690390307123404 0.6433056494273304\n"
     ]
    }
   ],
   "source": [
    "y_pred = reg.predict([models['X'][119:], models['norm_A'][119:], models['norm_AT'][119:]])\n",
    "y_true = models['val_acc'][119:]\n",
    "print(mean_squared_error(y_true, y_pred), tau(y_true, y_pred).correlation, r2_score(y_true, y_pred))"
   ]
  },
  {
   "cell_type": "code",
   "execution_count": 92,
   "id": "6ddd5cc5-6234-470d-b1e6-f33b27e3973d",
   "metadata": {},
   "outputs": [],
   "source": [
    "min_idx = np.argmin(y_pred.ravel())\n",
    "max_idx = np.argmax(y_pred.ravel())"
   ]
  },
  {
   "cell_type": "code",
   "execution_count": 93,
   "id": "d1561618-0233-4936-9d0a-d0e0996ba037",
   "metadata": {},
   "outputs": [],
   "source": [
    "y_idx = np.where(y_pred > y_pred[min_idx])[0]"
   ]
  },
  {
   "cell_type": "code",
   "execution_count": 94,
   "id": "52ceb233-aa62-44f3-a84c-06b8f10b3916",
   "metadata": {},
   "outputs": [
    {
     "name": "stdout",
     "output_type": "stream",
     "text": [
      "5.691547673229212 0.8222222222222221 0.37857951012643676\n"
     ]
    }
   ],
   "source": [
    "y_pred_10 = np.vstack([y_pred[min_idx], y_pred[list(range(0, len(y_idx), len(y_idx) // 8))[-8:]], y_pred[max_idx]]).ravel()\n",
    "y_true_10 = np.hstack([y_true[min_idx], y_true[list(range(0, len(y_idx), len(y_idx) // 8))[-8:]], y_true[max_idx]]).ravel()\n",
    "print(mean_squared_error(y_true_10, y_pred_10), tau(y_true_10, y_pred_10).correlation, r2_score(y_true_10, y_pred_10))"
   ]
  },
  {
   "cell_type": "code",
   "execution_count": 95,
   "id": "0649252b-e292-4712-abdd-c69ea3faab7e",
   "metadata": {},
   "outputs": [],
   "source": [
    "np.save('outputs/nasbench_y_true_test.npy', y_true)\n",
    "np.save('outputs/nasbench_y_pred_test.npy', y_pred)\n",
    "np.save('outputs/nasbench_y_true_test_10.npy', y_true_10)\n",
    "np.save('outputs/nasbench_y_pred_test_10.npy', y_pred_10)\n",
    "np.save('outputs/nasbench_mse_test.npy', mean_squared_error(y_true, y_pred))\n",
    "np.save('outputs/nasbench_tau_test.npy', tau(y_true, y_pred).correlation)\n",
    "np.save('outputs/nasbench_r2_test.npy', r2_score(y_true, y_pred))"
   ]
  },
  {
   "cell_type": "markdown",
   "id": "5c71c1e2-fe3e-46fb-996d-52daa1692b3c",
   "metadata": {},
   "source": [
    "### ProxylessNAS"
   ]
  },
  {
   "cell_type": "markdown",
   "id": "4b40d6a7-7a91-4b09-85a8-905e7966b999",
   "metadata": {},
   "source": [
    "CIFAR-100"
   ]
  },
  {
   "cell_type": "code",
   "execution_count": 16,
   "id": "e72d0116-3e68-4df0-bb7e-608925282484",
   "metadata": {},
   "outputs": [],
   "source": [
    "models, val_acc = [], []\n",
    "model_acc = np.load(f'outputs/model_acc_cifar100.npy', allow_pickle=True)\n",
    "for m in model_acc:\n",
    "    models.append(m['arch'])\n",
    "    val_acc.append(m['val_acc'] * 100.)"
   ]
  },
  {
   "cell_type": "code",
   "execution_count": 17,
   "id": "6191aae5-686e-4dfe-a155-9ed0fca34b4f",
   "metadata": {},
   "outputs": [],
   "source": [
    "data = preprocess_proxylessnas(models)\n",
    "val_acc = np.array(val_acc)\n",
    "train_data = [data['X'][:76], data['norm_A'][:76], data['norm_AT'][:76]]\n",
    "valid_data = [data['X'][76:76+5], data['norm_A'][76:76+5], data['norm_AT'][76:76+5]]\n",
    "test_data = [data['X'][76+5:], data['norm_A'][76+5:], data['norm_AT'][76+5:]]"
   ]
  },
  {
   "cell_type": "code",
   "execution_count": 18,
   "id": "de3ed468-c711-4dad-b8f2-5c62268ae223",
   "metadata": {},
   "outputs": [],
   "source": [
    "reg = regressor(train_data, val_acc[:76])"
   ]
  },
  {
   "cell_type": "code",
   "execution_count": 19,
   "id": "b20fed1f-5576-4a86-bd70-cc538d0198b1",
   "metadata": {},
   "outputs": [
    {
     "name": "stdout",
     "output_type": "stream",
     "text": [
      "0.8397596019859958 0.43530335973545037 0.3395288666076932\n"
     ]
    }
   ],
   "source": [
    "y_pred = reg.predict(train_data)\n",
    "y_true = val_acc[:76]\n",
    "print(mean_squared_error(y_true, y_pred), tau(y_true, y_pred).correlation, r2_score(y_true, y_pred))"
   ]
  },
  {
   "cell_type": "code",
   "execution_count": 20,
   "id": "863ccbf9-15ce-466e-9097-9ad606686afd",
   "metadata": {},
   "outputs": [],
   "source": [
    "np.save('outputs/cifar100_y_true_train.npy', y_true)\n",
    "np.save('outputs/cifar100_y_pred_train.npy', y_pred)\n",
    "np.save('outputs/cifar100_mse_train.npy', mean_squared_error(y_true, y_pred))\n",
    "np.save('outputs/cifar100_tau_train.npy', tau(y_true, y_pred).correlation)\n",
    "np.save('outputs/cifar100_r2_train.npy', r2_score(y_true, y_pred))"
   ]
  },
  {
   "cell_type": "code",
   "execution_count": 21,
   "id": "e7bf88d5-ba0b-4a07-8fd4-3023c33acbe3",
   "metadata": {},
   "outputs": [
    {
     "name": "stdout",
     "output_type": "stream",
     "text": [
      "1.4579899197781454 0.0 -0.46229457615062186\n"
     ]
    }
   ],
   "source": [
    "y_pred = reg.predict(valid_data)\n",
    "y_true = val_acc[76:76+5]\n",
    "print(mean_squared_error(y_true, y_pred), tau(y_true, y_pred).correlation, r2_score(y_true, y_pred))"
   ]
  },
  {
   "cell_type": "code",
   "execution_count": 22,
   "id": "5c654da3-6e76-4bd5-969b-45df0f6dd9b0",
   "metadata": {},
   "outputs": [],
   "source": [
    "np.save('outputs/cifar100_y_true_val.npy', y_true)\n",
    "np.save('outputs/cifar100_y_pred_val.npy', y_pred)\n",
    "np.save('outputs/cifar100_mse_val.npy', mean_squared_error(y_true, y_pred))\n",
    "np.save('outputs/cifar100_tau_val.npy', tau(y_true, y_pred).correlation)\n",
    "np.save('outputs/cifar100_r2_val.npy', r2_score(y_true, y_pred))"
   ]
  },
  {
   "cell_type": "code",
   "execution_count": 23,
   "id": "2a57f17e-cee7-43d8-9b50-78884bd5ad71",
   "metadata": {},
   "outputs": [
    {
     "name": "stdout",
     "output_type": "stream",
     "text": [
      "0.2741968098290307 0.39999999999999997 0.28247827810860293\n"
     ]
    }
   ],
   "source": [
    "y_pred = reg.predict(test_data)\n",
    "y_true = val_acc[76+5:]\n",
    "print(mean_squared_error(y_true, y_pred), tau(y_true, y_pred).correlation, r2_score(y_true, y_pred))"
   ]
  },
  {
   "cell_type": "code",
   "execution_count": 24,
   "id": "39e26710-6b8e-4dc0-a9b8-fee7f3ce81b2",
   "metadata": {},
   "outputs": [],
   "source": [
    "np.save('outputs/cifar100_y_true_test.npy', y_true)\n",
    "np.save('outputs/cifar100_y_pred_test.npy', y_pred)\n",
    "np.save('outputs/cifar100_mse_test.npy', mean_squared_error(y_true, y_pred))\n",
    "np.save('outputs/cifar100_tau_test.npy', tau(y_true, y_pred).correlation)\n",
    "np.save('outputs/cifar100_r2_test.npy', r2_score(y_true, y_pred))"
   ]
  },
  {
   "cell_type": "markdown",
   "id": "d0bd1c7c-b821-409d-826b-039152716d19",
   "metadata": {},
   "source": [
    "Caltech-101"
   ]
  },
  {
   "cell_type": "code",
   "execution_count": 25,
   "id": "77c5300f-3c45-4247-b537-bca2abfe13de",
   "metadata": {},
   "outputs": [],
   "source": [
    "models, val_acc = [], []\n",
    "\n",
    "model_acc = np.load(f'outputs/model_acc_caltech.npy', allow_pickle=True)\n",
    "for m in model_acc:\n",
    "    models.append(m['arch'])\n",
    "    val_acc.append(m['val_acc'] * 100.)"
   ]
  },
  {
   "cell_type": "code",
   "execution_count": 26,
   "id": "2c396ca9-1269-4c05-9cf5-b3474c233afd",
   "metadata": {},
   "outputs": [],
   "source": [
    "data = preprocess_proxylessnas(models)\n",
    "val_acc = np.array(val_acc)\n",
    "train_data = [data['X'][:208], data['norm_A'][:208], data['norm_AT'][:208]]\n",
    "valid_data = [data['X'][208:208+40], data['norm_A'][208:208+40], data['norm_AT'][208:208+40]]\n",
    "test_data = [data['X'][208+40:], data['norm_A'][208+40:], data['norm_AT'][208+40:]]"
   ]
  },
  {
   "cell_type": "code",
   "execution_count": 27,
   "id": "6c660059-9c80-4481-a7d4-1fcd35975688",
   "metadata": {},
   "outputs": [],
   "source": [
    "reg = regressor(train_data, val_acc[:208])"
   ]
  },
  {
   "cell_type": "code",
   "execution_count": 28,
   "id": "f9651f39-ba69-4b4d-a022-ec3a55c9918a",
   "metadata": {},
   "outputs": [
    {
     "name": "stdout",
     "output_type": "stream",
     "text": [
      "6.959254344589159 0.4041692228296266 0.37439728278496354\n"
     ]
    }
   ],
   "source": [
    "y_pred = reg.predict(train_data)\n",
    "y_true = val_acc[:208]\n",
    "print(mean_squared_error(y_true, y_pred), tau(y_true, y_pred).correlation, r2_score(y_true, y_pred))"
   ]
  },
  {
   "cell_type": "code",
   "execution_count": 29,
   "id": "4fe9d9d7-4e15-41a7-bff3-4f3d772f3649",
   "metadata": {},
   "outputs": [],
   "source": [
    "np.save('outputs/caltech_y_true_train.npy', y_true)\n",
    "np.save('outputs/caltech_y_pred_train.npy', y_pred)\n",
    "np.save('outputs/caltech_mse_train.npy', mean_squared_error(y_true, y_pred))\n",
    "np.save('outputs/caltech_tau_train.npy', tau(y_true, y_pred).correlation)\n",
    "np.save('outputs/caltech_r2_train.npy', r2_score(y_true, y_pred))"
   ]
  },
  {
   "cell_type": "code",
   "execution_count": 30,
   "id": "132890f9-ef18-418f-bfe1-3d1af709bb20",
   "metadata": {},
   "outputs": [
    {
     "name": "stdout",
     "output_type": "stream",
     "text": [
      "9.021863658309812 0.22706868045228576 0.030166659813194552\n"
     ]
    }
   ],
   "source": [
    "y_pred = reg.predict(valid_data)\n",
    "y_true = val_acc[208:208+40]\n",
    "print(mean_squared_error(y_true, y_pred), tau(y_true, y_pred).correlation, r2_score(y_true, y_pred))"
   ]
  },
  {
   "cell_type": "code",
   "execution_count": 31,
   "id": "58cb0bd2-f68d-4873-848a-b87ff10ed989",
   "metadata": {},
   "outputs": [],
   "source": [
    "np.save('outputs/caltech_y_true_val.npy', y_true)\n",
    "np.save('outputs/caltech_y_pred_val.npy', y_pred)\n",
    "np.save('outputs/caltech_mse_val.npy', mean_squared_error(y_true, y_pred))\n",
    "np.save('outputs/caltech_tau_val.npy', tau(y_true, y_pred).correlation)\n",
    "np.save('outputs/caltech_r2_val.npy', r2_score(y_true, y_pred))"
   ]
  },
  {
   "cell_type": "code",
   "execution_count": 32,
   "id": "05465ee7-8814-4b9d-9414-f3ae5458d641",
   "metadata": {},
   "outputs": [
    {
     "name": "stdout",
     "output_type": "stream",
     "text": [
      "9.51458586000109 0.1862559655186504 -0.03665811883826575\n"
     ]
    }
   ],
   "source": [
    "y_pred = reg.predict(test_data)\n",
    "y_true = val_acc[208+40:]\n",
    "print(mean_squared_error(y_true, y_pred), tau(y_true, y_pred).correlation, r2_score(y_true, y_pred))"
   ]
  },
  {
   "cell_type": "code",
   "execution_count": 33,
   "id": "3087f8d9-d6bd-4223-b153-f2a1c2716caf",
   "metadata": {},
   "outputs": [],
   "source": [
    "np.save('outputs/caltech_y_true_test.npy', y_true)\n",
    "np.save('outputs/caltech_y_pred_test.npy', y_pred)\n",
    "np.save('outputs/caltech_mse_test.npy', mean_squared_error(y_true, y_pred))\n",
    "np.save('outputs/caltech_tau_test.npy', tau(y_true, y_pred).correlation)\n",
    "np.save('outputs/caltech_r2_test.npy', r2_score(y_true, y_pred))"
   ]
  },
  {
   "cell_type": "markdown",
   "id": "8e6cc657-c39b-4b8d-b674-d8f6397ec5d1",
   "metadata": {},
   "source": [
    "Oxford IIIT PET"
   ]
  },
  {
   "cell_type": "code",
   "execution_count": 34,
   "id": "f8963d8d-e8ee-4492-8045-b65588832913",
   "metadata": {},
   "outputs": [],
   "source": [
    "models, val_acc = [], []\n",
    "\n",
    "model_acc = np.load(f'outputs/model_acc_oxford_pet.npy', allow_pickle=True)\n",
    "for m in model_acc:\n",
    "    models.append(m['arch'])\n",
    "    val_acc.append(m['val_acc'] * 100.)"
   ]
  },
  {
   "cell_type": "code",
   "execution_count": 35,
   "id": "1c97bed1-7393-436e-b02c-110a61556645",
   "metadata": {},
   "outputs": [],
   "source": [
    "data = preprocess_proxylessnas(models)\n",
    "val_acc = np.array(val_acc)\n",
    "train_data = [data['X'][:212], data['norm_A'][:212], data['norm_AT'][:212]]\n",
    "valid_data = [data['X'][212:212+10], data['norm_A'][212:212+10], data['norm_AT'][212:212+10]]\n",
    "test_data = [data['X'][212+10:], data['norm_A'][212+10:], data['norm_AT'][212+10:]]"
   ]
  },
  {
   "cell_type": "code",
   "execution_count": 36,
   "id": "cecde7b4-4b6a-47a8-a3c8-4af3071dfcbe",
   "metadata": {},
   "outputs": [],
   "source": [
    "reg = regressor(train_data, val_acc[:212], is_shift=False)"
   ]
  },
  {
   "cell_type": "code",
   "execution_count": 37,
   "id": "2d0b770d-3b61-4334-a26e-de2bf74ac220",
   "metadata": {},
   "outputs": [
    {
     "name": "stdout",
     "output_type": "stream",
     "text": [
      "0.8656793516167571 0.2826455331616989 0.17840147231556114\n"
     ]
    }
   ],
   "source": [
    "y_pred = reg.predict(train_data)\n",
    "y_true = val_acc[:212]\n",
    "print(mean_squared_error(y_true, y_pred), tau(y_true, y_pred).correlation, r2_score(y_true, y_pred))"
   ]
  },
  {
   "cell_type": "code",
   "execution_count": 38,
   "id": "8325e99f-d08c-410d-9cfa-82b71a783fcc",
   "metadata": {},
   "outputs": [],
   "source": [
    "np.save('outputs/oxford_y_true_train.npy', y_true)\n",
    "np.save('outputs/oxford_y_pred_train.npy', y_pred)\n",
    "np.save('outputs/oxford_mse_train.npy', mean_squared_error(y_true, y_pred))\n",
    "np.save('outputs/oxford_tau_train.npy', tau(y_true, y_pred).correlation)\n",
    "np.save('outputs/oxford_r2_train.npy', r2_score(y_true, y_pred))"
   ]
  },
  {
   "cell_type": "code",
   "execution_count": 39,
   "id": "e59c8a18-c55f-4f7c-96f2-08f60e0375ae",
   "metadata": {},
   "outputs": [
    {
     "name": "stdout",
     "output_type": "stream",
     "text": [
      "0.8102647996119685 0.22473328748774735 0.17869906043300154\n"
     ]
    }
   ],
   "source": [
    "y_pred = reg.predict(valid_data)\n",
    "y_true = val_acc[212:212+10]\n",
    "print(mean_squared_error(y_true, y_pred), tau(y_true, y_pred).correlation, r2_score(y_true, y_pred))"
   ]
  },
  {
   "cell_type": "code",
   "execution_count": 40,
   "id": "5f0e7008-e5ab-4b94-8f5a-43f7c19ae95b",
   "metadata": {},
   "outputs": [],
   "source": [
    "np.save('outputs/oxford_y_true_val.npy', y_true)\n",
    "np.save('outputs/oxford_y_pred_val.npy', y_pred)\n",
    "np.save('outputs/oxford_mse_val.npy', mean_squared_error(y_true, y_pred))\n",
    "np.save('outputs/oxford_tau_val.npy', tau(y_true, y_pred).correlation)\n",
    "np.save('outputs/oxford_r2_val.npy', r2_score(y_true, y_pred))"
   ]
  },
  {
   "cell_type": "code",
   "execution_count": 41,
   "id": "1f30bb12-458e-4c1c-9c16-157738d0767a",
   "metadata": {},
   "outputs": [
    {
     "name": "stdout",
     "output_type": "stream",
     "text": [
      "0.7684892989426564 -0.022733144649015782 -0.3563133691226925\n"
     ]
    }
   ],
   "source": [
    "y_pred = reg.predict(test_data)\n",
    "y_true = val_acc[212+10:]\n",
    "print(mean_squared_error(y_true, y_pred), tau(y_true, y_pred).correlation, r2_score(y_true, y_pred))"
   ]
  },
  {
   "cell_type": "code",
   "execution_count": 42,
   "id": "5ee73633-bff8-4cf6-8397-71efc9aee2bc",
   "metadata": {},
   "outputs": [],
   "source": [
    "np.save('outputs/oxford_y_true_test.npy', y_true)\n",
    "np.save('outputs/oxford_y_pred_test.npy', y_pred)\n",
    "np.save('outputs/oxford_mse_test.npy', mean_squared_error(y_true, y_pred))\n",
    "np.save('outputs/oxford_tau_test.npy', tau(y_true, y_pred).correlation)\n",
    "np.save('outputs/oxford_r2_test.npy', r2_score(y_true, y_pred))"
   ]
  },
  {
   "cell_type": "code",
   "execution_count": null,
   "id": "f7c84d15-4331-4993-8036-16288dd41d6a",
   "metadata": {},
   "outputs": [],
   "source": []
  },
  {
   "cell_type": "markdown",
   "id": "6305d56c-b929-4237-99ad-1a54279521db",
   "metadata": {},
   "source": [
    "### NAS-Bench-NLP"
   ]
  },
  {
   "cell_type": "code",
   "execution_count": 43,
   "id": "43492059-02ee-4bc5-b1cb-82193e36293e",
   "metadata": {},
   "outputs": [],
   "source": [
    "N = 172"
   ]
  },
  {
   "cell_type": "code",
   "execution_count": 44,
   "id": "c785c2e0-2609-46f8-9b37-975892fb8142",
   "metadata": {},
   "outputs": [],
   "source": [
    "search_set, env = load_nasbench_nlp()"
   ]
  },
  {
   "cell_type": "code",
   "execution_count": 45,
   "id": "059b4edd-8450-483b-8dfc-5f4d6da789ce",
   "metadata": {},
   "outputs": [],
   "source": [
    "def get_N_nlp_samples(N):\n",
    "    env.reset()\n",
    "    \n",
    "    models = []\n",
    "    stats = []\n",
    "\n",
    "    for _ in range(N):\n",
    "        while True:\n",
    "            idx = np.random.choice(len(search_set), 1, replace=False)[0]\n",
    "            model = search_set[idx]\n",
    "            \n",
    "            if model not in models:\n",
    "                env.simulated_train(model, 50)\n",
    "                \n",
    "                if 'OK' == env.get_model_status(model):   \n",
    "                    models.append(model)\n",
    "                    stats.append(env.get_model_stats(model, 49))\n",
    "                    break\n",
    "                \n",
    "    return preprocess_nasbench_nlp(models, stats)"
   ]
  },
  {
   "cell_type": "code",
   "execution_count": 46,
   "id": "e968bf46-3faf-49af-ab51-e275646a8b11",
   "metadata": {},
   "outputs": [],
   "source": [
    "models = get_N_nlp_samples(119+10000)"
   ]
  },
  {
   "cell_type": "code",
   "execution_count": 47,
   "id": "a4c54fde-484b-4ab5-9be8-b3ce31697525",
   "metadata": {},
   "outputs": [],
   "source": [
    "reg = regressor([models['X'][:79], models['norm_A'][:79], models['norm_AT'][:79]], models['val_loss'][:79], mode='loss')"
   ]
  },
  {
   "cell_type": "code",
   "execution_count": 48,
   "id": "36e38545-6502-43b1-98de-ffc6d0853a64",
   "metadata": {},
   "outputs": [
    {
     "name": "stdout",
     "output_type": "stream",
     "text": [
      "0.32234077903422514 0.25478740668614086 0.2524043080192905\n"
     ]
    }
   ],
   "source": [
    "y_pred = reg.predict([models['X'][:79], models['norm_A'][:79], models['norm_AT'][:79]])\n",
    "y_true = models['val_loss'][:79]\n",
    "print(mean_squared_error(y_true, y_pred), tau(y_true, y_pred).correlation, r2_score(y_true, y_pred))"
   ]
  },
  {
   "cell_type": "code",
   "execution_count": 49,
   "id": "add9d6a9-b6ae-4ad1-97ae-ac2ef21ae2c1",
   "metadata": {},
   "outputs": [],
   "source": [
    "np.save('outputs/nlp_y_true_train.npy', y_true)\n",
    "np.save('outputs/nlp_y_pred_train.npy', y_pred)\n",
    "np.save('outputs/nlp_mse_train.npy', mean_squared_error(y_true, y_pred))\n",
    "np.save('outputs/nlp_tau_train.npy', tau(y_true, y_pred).correlation)\n",
    "np.save('outputs/nlp_r2_train.npy', r2_score(y_true, y_pred))"
   ]
  },
  {
   "cell_type": "code",
   "execution_count": 50,
   "id": "b6d6cc95-fa3b-4584-a5c1-c83412be29ff",
   "metadata": {},
   "outputs": [
    {
     "name": "stdout",
     "output_type": "stream",
     "text": [
      "0.2678292393893943 0.23846153846153847 0.07886005582047706\n"
     ]
    }
   ],
   "source": [
    "y_pred = reg.predict([models['X'][79:119], models['norm_A'][79:119], models['norm_AT'][79:119]])\n",
    "y_true = models['val_loss'][79:119]\n",
    "print(mean_squared_error(y_true, y_pred), tau(y_true, y_pred).correlation, r2_score(y_true, y_pred))"
   ]
  },
  {
   "cell_type": "code",
   "execution_count": 51,
   "id": "2d1e8020-6334-4561-a53c-e3a0deb220dd",
   "metadata": {},
   "outputs": [],
   "source": [
    "np.save('outputs/nlp_y_true_val.npy', y_true)\n",
    "np.save('outputs/nlp_y_pred_val.npy', y_pred)\n",
    "np.save('outputs/nlp_mse_val.npy', mean_squared_error(y_true, y_pred))\n",
    "np.save('outputs/nlp_tau_val.npy', tau(y_true, y_pred).correlation)\n",
    "np.save('outputs/nlp_r2_val.npy', r2_score(y_true, y_pred))"
   ]
  },
  {
   "cell_type": "code",
   "execution_count": 52,
   "id": "62093be3-f09f-47ac-bd8e-c61020fc8035",
   "metadata": {},
   "outputs": [],
   "source": [
    "y_pred = reg.predict([models['X'][119:], models['norm_A'][119:], models['norm_AT'][119:]])\n",
    "y_true = models['val_loss'][119:]"
   ]
  },
  {
   "cell_type": "code",
   "execution_count": 53,
   "id": "efe7cce7-0bdc-4551-9d27-863bab78a69c",
   "metadata": {},
   "outputs": [],
   "source": [
    "min_idx = np.argmin(y_pred.ravel())\n",
    "max_idx = np.argmax(y_pred.ravel())"
   ]
  },
  {
   "cell_type": "code",
   "execution_count": 54,
   "id": "960dfc41-914f-4ba7-9729-4fcc49d115f9",
   "metadata": {},
   "outputs": [],
   "source": [
    "y_idx = np.where(y_pred > y_pred[min_idx])[0]"
   ]
  },
  {
   "cell_type": "code",
   "execution_count": 55,
   "id": "94035647-c36e-4ee5-a56a-760cbe8cac0e",
   "metadata": {},
   "outputs": [
    {
     "name": "stdout",
     "output_type": "stream",
     "text": [
      "0.48322699770890426 0.06666666666666667 -0.07946753853717325\n"
     ]
    }
   ],
   "source": [
    "y_pred_10 = np.vstack([y_pred[min_idx], y_pred[list(range(0, len(y_idx), len(y_idx) // 8))[-8:]], y_pred[max_idx]]).ravel()\n",
    "y_true_10 = np.hstack([y_true[min_idx], y_true[list(range(0, len(y_idx), len(y_idx) // 8))[-8:]], y_true[max_idx]]).ravel()\n",
    "print(mean_squared_error(y_true_10, y_pred_10), tau(y_true_10, y_pred_10).correlation, r2_score(y_true_10, y_pred_10))"
   ]
  },
  {
   "cell_type": "code",
   "execution_count": 56,
   "id": "41a16396-92ec-4f12-af32-7754bda7637f",
   "metadata": {},
   "outputs": [],
   "source": [
    "np.save('outputs/nlp_y_true_test.npy', y_true)\n",
    "np.save('outputs/nlp_y_pred_test.npy', y_pred)\n",
    "np.save('outputs/nlp_y_true_test_10.npy', y_true_10)\n",
    "np.save('outputs/nlp_y_pred_test_10.npy', y_pred_10)\n",
    "np.save('outputs/nlp_mse_test.npy', mean_squared_error(y_true, y_pred))\n",
    "np.save('outputs/nlp_tau_test.npy', tau(y_true, y_pred).correlation)\n",
    "np.save('outputs/nlp_r2_test.npy', r2_score(y_true, y_pred))"
   ]
  },
  {
   "cell_type": "code",
   "execution_count": null,
   "id": "5096fb13-9025-4f06-9f8c-e6e126a6adf3",
   "metadata": {},
   "outputs": [],
   "source": []
  }
 ],
 "metadata": {
  "kernelspec": {
   "display_name": "Python 3",
   "language": "python",
   "name": "python3"
  },
  "language_info": {
   "codemirror_mode": {
    "name": "ipython",
    "version": 3
   },
   "file_extension": ".py",
   "mimetype": "text/x-python",
   "name": "python",
   "nbconvert_exporter": "python",
   "pygments_lexer": "ipython3",
   "version": "3.9.4"
  }
 },
 "nbformat": 4,
 "nbformat_minor": 5
}
