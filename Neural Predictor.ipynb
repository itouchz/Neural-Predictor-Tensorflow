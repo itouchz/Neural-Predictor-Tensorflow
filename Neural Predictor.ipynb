{
 "cells": [
  {
   "cell_type": "code",
   "execution_count": 6,
   "id": "72d5304b-9727-435e-9f50-13a158b11c7e",
   "metadata": {},
   "outputs": [],
   "source": [
    "import os\n",
    "import random\n",
    "import numpy as np\n",
    "import pandas as pd\n",
    "import tensorflow as tf\n",
    "\n",
    "from tqdm.notebook import tqdm\n",
    "from nasbench import api\n",
    "from search_spaces import load_nasbench_101, load_proxylessnas, load_nasbench_nlp\n",
    "from random_search import run_random_search, random_spec\n",
    "from neural_predictor import classifier, regressor\n",
    "from input_preprocessing import preprocess_nasbench, preprocess_nasbench_nlp, preprocess_proxylessnas\n",
    "\n",
    "from scipy.stats import kendalltau as tau\n",
    "from sklearn.metrics import r2_score, mean_squared_error"
   ]
  },
  {
   "cell_type": "code",
   "execution_count": 2,
   "id": "e420274e-ad0f-4a57-810f-0900f3d3f6ec",
   "metadata": {},
   "outputs": [],
   "source": [
    "os.environ[\"CUDA_DEVICE_ORDER\"] = \"PCI_BUS_ID\"\n",
    "os.environ[\"CUDA_VISIBLE_DEVICES\"] = \"0\"\n",
    "os.environ[\"TF_FORCE_GPU_ALLOW_GROWTH\"] = \"true\""
   ]
  },
  {
   "cell_type": "markdown",
   "id": "3dfe1e10-83ee-4016-b286-f1187bef3453",
   "metadata": {},
   "source": [
    "### NAS-Bench-101"
   ]
  },
  {
   "cell_type": "code",
   "execution_count": 3,
   "id": "dc6344ae-881c-4eff-ab3f-46c6842d8a01",
   "metadata": {},
   "outputs": [
    {
     "name": "stdout",
     "output_type": "stream",
     "text": [
      "Loading dataset from file... This may take a few minutes...\n",
      "WARNING:tensorflow:From /home/patara/Courses/CS470-Neural-Predictor/nasbench/api.py:146: tf_record_iterator (from tensorflow.python.lib.io.tf_record) is deprecated and will be removed in a future version.\n",
      "Instructions for updating:\n",
      "Use eager execution and: \n",
      "`tf.data.TFRecordDataset(path)`\n",
      "Loaded dataset in 57 seconds\n"
     ]
    }
   ],
   "source": [
    "nasbench = load_nasbench_101()"
   ]
  },
  {
   "cell_type": "code",
   "execution_count": 4,
   "id": "0d6374a1-f86b-4fee-852d-31a7670199d3",
   "metadata": {},
   "outputs": [],
   "source": [
    "def get_N_samples(N):\n",
    "    models = []\n",
    "\n",
    "    for _ in range(N):\n",
    "        while True:\n",
    "            model = random_spec(nasbench)\n",
    "            if model not in models:\n",
    "                models.append(nasbench.query(model))\n",
    "                break\n",
    "                \n",
    "    return preprocess_nasbench(models)"
   ]
  },
  {
   "cell_type": "code",
   "execution_count": 5,
   "id": "43f54ca9-946d-4505-be97-00ba2db0fa16",
   "metadata": {},
   "outputs": [],
   "source": [
    "models = get_N_samples(119+100000)"
   ]
  },
  {
   "cell_type": "code",
   "execution_count": 7,
   "id": "4365ef56-196f-4ced-81cc-c58b0fbaae58",
   "metadata": {},
   "outputs": [],
   "source": [
    "reg = regressor([models['X'][:79], models['norm_A'][:79], models['norm_AT'][:79]], models['val_acc'][:79])"
   ]
  },
  {
   "cell_type": "code",
   "execution_count": 11,
   "id": "2596ad1b-3661-409a-b673-d5b051a180c4",
   "metadata": {},
   "outputs": [
    {
     "name": "stdout",
     "output_type": "stream",
     "text": [
      "0.6586282422977711 0.7770186476462595 0.9533437131864096\n"
     ]
    }
   ],
   "source": [
    "y_pred = reg.predict([models['X'][:79], models['norm_A'][:79], models['norm_AT'][:79]])\n",
    "y_true = models['val_acc'][:79]\n",
    "print(mean_squared_error(y_true, y_pred), tau(y_true, y_pred).correlation, r2_score(y_true, y_pred))"
   ]
  },
  {
   "cell_type": "code",
   "execution_count": 12,
   "id": "cf10639d-9014-4224-9503-3c7105509a0c",
   "metadata": {},
   "outputs": [],
   "source": [
    "np.save('outputs/nasbench_y_true_train.npy', y_true)\n",
    "np.save('outputs/nasbench_y_pred_train.npy', y_pred)\n",
    "np.save('outputs/nasbench_mse_train.npy', mean_squared_error(y_true, y_pred))\n",
    "np.save('outputs/nasbench_tau_train.npy', tau(y_true, y_pred).correlation)\n",
    "np.save('outputs/nasbench_r2_train.npy', r2_score(y_true, y_pred))"
   ]
  },
  {
   "cell_type": "code",
   "execution_count": 13,
   "id": "cd407e24-1fe9-49d8-a6bf-87bdf6a9b7e5",
   "metadata": {},
   "outputs": [
    {
     "name": "stdout",
     "output_type": "stream",
     "text": [
      "2.5534242721048512 0.5869484780941913 0.8353852262596422\n"
     ]
    }
   ],
   "source": [
    "y_pred = reg.predict([models['X'][79:119], models['norm_A'][79:119], models['norm_AT'][79:119]])\n",
    "y_true = models['val_acc'][79:119]\n",
    "print(mean_squared_error(y_true, y_pred), tau(y_true, y_pred).correlation, r2_score(y_true, y_pred))"
   ]
  },
  {
   "cell_type": "code",
   "execution_count": 14,
   "id": "acf21595-1d5b-4905-8404-2ec6dc803ade",
   "metadata": {},
   "outputs": [],
   "source": [
    "np.save('outputs/nasbench_y_true_val.npy', y_true)\n",
    "np.save('outputs/nasbench_y_pred_val.npy', y_pred)\n",
    "np.save('outputs/nasbench_mse_val.npy', mean_squared_error(y_true, y_pred))\n",
    "np.save('outputs/nasbench_tau_val.npy', tau(y_true, y_pred).correlation)\n",
    "np.save('outputs/nasbench_r2_val.npy', r2_score(y_true, y_pred))"
   ]
  },
  {
   "cell_type": "code",
   "execution_count": 15,
   "id": "2cd33aa6-897e-4f43-8ba3-94320fa3840c",
   "metadata": {},
   "outputs": [],
   "source": [
    "y_pred = reg.predict([models['X'][119:], models['norm_A'][119:], models['norm_AT'][119:]])\n",
    "y_true = models['val_acc'][119:]"
   ]
  },
  {
   "cell_type": "code",
   "execution_count": 16,
   "id": "6ddd5cc5-6234-470d-b1e6-f33b27e3973d",
   "metadata": {},
   "outputs": [],
   "source": [
    "min_idx = np.argmin(y_pred.ravel())\n",
    "max_idx = np.argmax(y_pred.ravel())"
   ]
  },
  {
   "cell_type": "code",
   "execution_count": 17,
   "id": "d1561618-0233-4936-9d0a-d0e0996ba037",
   "metadata": {},
   "outputs": [],
   "source": [
    "y_idx = np.where(y_pred > y_pred[min_idx])[0]"
   ]
  },
  {
   "cell_type": "code",
   "execution_count": 18,
   "id": "52ceb233-aa62-44f3-a84c-06b8f10b3916",
   "metadata": {},
   "outputs": [
    {
     "name": "stdout",
     "output_type": "stream",
     "text": [
      "5.098841614816604 0.5111111111111111 0.8584448884306847\n"
     ]
    }
   ],
   "source": [
    "y_pred_10 = np.vstack([y_pred[min_idx], y_pred[list(range(0, len(y_idx), len(y_idx) // 8))[-8:]], y_pred[max_idx]]).ravel()\n",
    "y_true_10 = np.hstack([y_true[min_idx], y_true[list(range(0, len(y_idx), len(y_idx) // 8))[-8:]], y_true[max_idx]]).ravel()\n",
    "print(mean_squared_error(y_true_10, y_pred_10), tau(y_true_10, y_pred_10).correlation, r2_score(y_true_10, y_pred_10))"
   ]
  },
  {
   "cell_type": "code",
   "execution_count": 19,
   "id": "0649252b-e292-4712-abdd-c69ea3faab7e",
   "metadata": {},
   "outputs": [],
   "source": [
    "np.save('outputs/nasbench_y_true_test.npy', y_true)\n",
    "np.save('outputs/nasbench_y_pred_test.npy', y_pred)\n",
    "np.save('outputs/nasbench_y_true_test_10.npy', y_true_10)\n",
    "np.save('outputs/nasbench_y_pred_test_10.npy', y_pred_10)\n",
    "np.save('outputs/nasbench_mse_test.npy', mean_squared_error(y_true, y_pred))\n",
    "np.save('outputs/nasbench_tau_test.npy', tau(y_true, y_pred).correlation)\n",
    "np.save('outputs/nasbench_r2_test.npy', r2_score(y_true, y_pred))"
   ]
  },
  {
   "cell_type": "markdown",
   "id": "5c71c1e2-fe3e-46fb-996d-52daa1692b3c",
   "metadata": {},
   "source": [
    "### ProxylessNAS"
   ]
  },
  {
   "cell_type": "code",
   "execution_count": null,
   "id": "cefdf1a5-f50b-4530-a6df-9392396d5cc0",
   "metadata": {},
   "outputs": [],
   "source": [
    "for i, path in enumerate(['model_acc_cifar100', 'model_acc_caltech', 'model_acc_oxford_pet']):\n",
    "    train_data = \n",
    "    valid_data =\n",
    "    test_data = \n",
    "# reg = regressor(train_data, labels, N=N, n_gcn=18, n_hidden_fc=[512, 128], init_lr=0.001, weight_decay=0.00001)"
   ]
  },
  {
   "cell_type": "code",
   "execution_count": null,
   "id": "f7c84d15-4331-4993-8036-16288dd41d6a",
   "metadata": {},
   "outputs": [],
   "source": []
  },
  {
   "cell_type": "markdown",
   "id": "6305d56c-b929-4237-99ad-1a54279521db",
   "metadata": {},
   "source": [
    "### NAS-Bench-NLP"
   ]
  },
  {
   "cell_type": "code",
   "execution_count": null,
   "id": "43492059-02ee-4bc5-b1cb-82193e36293e",
   "metadata": {},
   "outputs": [],
   "source": [
    "N = 172"
   ]
  },
  {
   "cell_type": "code",
   "execution_count": 20,
   "id": "c785c2e0-2609-46f8-9b37-975892fb8142",
   "metadata": {},
   "outputs": [],
   "source": [
    "search_set, env = load_nasbench_nlp()"
   ]
  },
  {
   "cell_type": "code",
   "execution_count": null,
   "id": "059b4edd-8450-483b-8dfc-5f4d6da789ce",
   "metadata": {},
   "outputs": [],
   "source": [
    "def get_N_nlp_samples(N):\n",
    "    env.reset()\n",
    "    \n",
    "    models = []\n",
    "    stats = []\n",
    "\n",
    "    for _ in range(N):\n",
    "        while True:\n",
    "            idx = np.random.choice(len(search_set), 1, replace=False)[0]\n",
    "            model = search_set[idx]\n",
    "            \n",
    "            if model not in models:\n",
    "                env.simulated_train(model, 50)\n",
    "                \n",
    "                if 'OK' == env.get_model_status(model):   \n",
    "                    models.append(model)\n",
    "                    stats.append(env.get_model_stats(model, 49))\n",
    "                    break\n",
    "                \n",
    "    return preprocess_nasbench_nlp(models, stats)"
   ]
  },
  {
   "cell_type": "code",
   "execution_count": null,
   "id": "e968bf46-3faf-49af-ab51-e275646a8b11",
   "metadata": {},
   "outputs": [],
   "source": [
    "# training part\n",
    "train_data = get_N_nlp_samples(119+10000)\n",
    "reg = regressor([train_data['X'], train_data['norm_A'], train_data['norm_AT']], train_data['val_loss'], mode='loss')"
   ]
  }
 ],
 "metadata": {
  "kernelspec": {
   "display_name": "Python 3",
   "language": "python",
   "name": "python3"
  },
  "language_info": {
   "codemirror_mode": {
    "name": "ipython",
    "version": 3
   },
   "file_extension": ".py",
   "mimetype": "text/x-python",
   "name": "python",
   "nbconvert_exporter": "python",
   "pygments_lexer": "ipython3",
   "version": "3.7.10"
  }
 },
 "nbformat": 4,
 "nbformat_minor": 5
}
