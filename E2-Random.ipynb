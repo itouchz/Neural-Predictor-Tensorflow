{
 "cells": [
  {
   "cell_type": "code",
   "execution_count": 1,
   "metadata": {},
   "outputs": [],
   "source": [
    "import os\n",
    "import random\n",
    "import yaml\n",
    "import numpy as np\n",
    "import pandas as pd\n",
    "import tensorflow as tf\n",
    "import tensorflow_datasets as tfds\n",
    "\n",
    "from latency_estimator import LatencyEstimator\n",
    "from tqdm.notebook import tqdm\n",
    "from random_search import proxylessnas_random\n",
    "from search_spaces import load_proxylessnas"
   ]
  },
  {
   "cell_type": "code",
   "execution_count": 2,
   "metadata": {},
   "outputs": [],
   "source": [
    "os.environ[\"CUDA_DEVICE_ORDER\"] = \"PCI_BUS_ID\"\n",
    "os.environ[\"CUDA_VISIBLE_DEVICES\"] = \"1\"\n",
    "os.environ[\"TF_FORCE_GPU_ALLOW_GROWTH\"] = \"true\""
   ]
  },
  {
   "cell_type": "markdown",
   "metadata": {},
   "source": [
    "## ImageNet Experiments"
   ]
  },
  {
   "cell_type": "markdown",
   "metadata": {},
   "source": [
    "### Data Preprocessing"
   ]
  },
  {
   "cell_type": "code",
   "execution_count": 3,
   "metadata": {},
   "outputs": [],
   "source": [
    "IMG_SIZE = (224, 224)\n",
    "def preprocess_image(image, label):\n",
    "    image = tf.cast(image, tf.float32)\n",
    "    image = tf.keras.applications.resnet.preprocess_input(image)\n",
    "    return tf.image.resize(image, size=IMG_SIZE), label"
   ]
  },
  {
   "cell_type": "code",
   "execution_count": 5,
   "metadata": {},
   "outputs": [],
   "source": [
    "ds, info = tfds.load('oxford_flowers102', as_supervised=True, with_info=True)"
   ]
  },
  {
   "cell_type": "code",
   "execution_count": 6,
   "metadata": {},
   "outputs": [],
   "source": [
    "raw_train = ds['train']\n",
    "raw_test = ds['test']"
   ]
  },
  {
   "cell_type": "code",
   "execution_count": 7,
   "metadata": {},
   "outputs": [],
   "source": [
    "BATCH_SIZE = 128\n",
    "\n",
    "raw_valid, raw_test = raw_test.take(1000), raw_test.skip(1000)\n",
    "train, valid, test = raw_train.map(preprocess_image), raw_valid.map(preprocess_image), raw_test.map(preprocess_image)\n",
    "train_batches, valid_batches, test_batches = train.shuffle(1024).batch(BATCH_SIZE), valid.batch(BATCH_SIZE), test.batch(BATCH_SIZE)"
   ]
  },
  {
   "cell_type": "markdown",
   "metadata": {},
   "source": [
    "### Random Search (Lower Bound Baseline)"
   ]
  },
  {
   "cell_type": "code",
   "execution_count": null,
   "metadata": {
    "scrolled": true,
    "tags": []
   },
   "outputs": [
    {
     "data": {
      "application/vnd.jupyter.widget-view+json": {
       "model_id": "5b9850663fb8475e95325d90bd89962f",
       "version_major": 2,
       "version_minor": 0
      },
      "text/plain": [
       "  0%|          | 0/256 [00:00<?, ?it/s]"
      ]
     },
     "metadata": {},
     "output_type": "display_data"
    },
    {
     "name": "stdout",
     "output_type": "stream",
     "text": [
      "8/8 [==============================] - 2s 115ms/step - loss: 5.3944 - accuracy: 0.0330\n",
      "8/8 [==============================] - 2s 73ms/step - loss: 5.3224 - accuracy: 0.0170\n",
      "8/8 [==============================] - 2s 63ms/step - loss: 5.3202 - accuracy: 0.0070\n",
      "8/8 [==============================] - 2s 73ms/step - loss: 5.4810 - accuracy: 0.0020\n",
      "8/8 [==============================] - 2s 63ms/step - loss: 5.3704 - accuracy: 0.0060\n",
      "8/8 [==============================] - 2s 66ms/step - loss: 5.2480 - accuracy: 0.0140\n",
      "8/8 [==============================] - 2s 66ms/step - loss: 5.2541 - accuracy: 0.0090\n",
      "8/8 [==============================] - 2s 65ms/step - loss: 5.4006 - accuracy: 0.0080\n",
      "8/8 [==============================] - 2s 65ms/step - loss: 5.4245 - accuracy: 0.0070\n",
      "8/8 [==============================] - 2s 59ms/step - loss: 5.3161 - accuracy: 0.0080\n",
      "8/8 [==============================] - 2s 57ms/step - loss: 5.3954 - accuracy: 0.0070\n",
      "8/8 [==============================] - 2s 53ms/step - loss: 5.3724 - accuracy: 0.0230\n",
      "8/8 [==============================] - 2s 56ms/step - loss: 5.3454 - accuracy: 0.0330\n",
      "8/8 [==============================] - 2s 56ms/step - loss: 5.4798 - accuracy: 0.0030\n",
      "8/8 [==============================] - 2s 56ms/step - loss: 5.3123 - accuracy: 0.0210\n",
      "8/8 [==============================] - 2s 60ms/step - loss: 5.3838 - accuracy: 0.0090\n",
      "8/8 [==============================] - 2s 67ms/step - loss: 5.4111 - accuracy: 0.0080\n",
      "8/8 [==============================] - 2s 56ms/step - loss: 5.4418 - accuracy: 0.0050\n",
      "8/8 [==============================] - 2s 56ms/step - loss: 5.3772 - accuracy: 0.0050\n",
      "8/8 [==============================] - 2s 62ms/step - loss: 5.4198 - accuracy: 0.0210\n",
      "8/8 [==============================] - 2s 63ms/step - loss: 5.4644 - accuracy: 0.0130\n",
      "8/8 [==============================] - 2s 61ms/step - loss: 5.4472 - accuracy: 0.0130\n",
      "8/8 [==============================] - 2s 59ms/step - loss: 5.2573 - accuracy: 0.0050\n",
      "8/8 [==============================] - 2s 56ms/step - loss: 5.2947 - accuracy: 0.0080\n",
      "8/8 [==============================] - 2s 60ms/step - loss: 5.2887 - accuracy: 0.0080\n",
      "8/8 [==============================] - 2s 60ms/step - loss: 5.3874 - accuracy: 0.0130\n",
      "8/8 [==============================] - 2s 59ms/step - loss: 5.3706 - accuracy: 0.0080\n",
      "8/8 [==============================] - 2s 64ms/step - loss: 5.2540 - accuracy: 0.0020\n",
      "8/8 [==============================] - 2s 62ms/step - loss: 5.4788 - accuracy: 0.0170\n",
      "8/8 [==============================] - 2s 63ms/step - loss: 5.4781 - accuracy: 0.0080\n"
     ]
    }
   ],
   "source": [
    "reps = proxylessnas_random(256)\n",
    "\n",
    "model_acc = []\n",
    "\n",
    "for rep in tqdm(reps):\n",
    "    tf.keras.backend.clear_session()\n",
    "    \n",
    "    model = load_proxylessnas()(weights=None, classes=info.features['label'].num_classes, arch_kernel=rep)\n",
    "    \n",
    "    lr_schedule = tf.keras.optimizers.schedules.CosineDecay(0.001, decay_steps=10000)\n",
    "    model.compile(optimizer=tf.keras.optimizers.RMSprop(learning_rate=lr_schedule, rho=0.9, momentum=0.9, epsilon=0.1), loss='sparse_categorical_crossentropy', metrics=['accuracy'])\n",
    "    \n",
    "    model.fit(train_batches, epochs=10, verbose=0)\n",
    "    \n",
    "    loss, accuracy = model.evaluate(valid_batches)\n",
    "    model_acc.append({'arch': rep, 'val_acc': accuracy})"
   ]
  },
  {
   "cell_type": "code",
   "execution_count": null,
   "metadata": {},
   "outputs": [],
   "source": [
    "np.save('outputs/model_acc_oxford_flower.npy', model_acc)"
   ]
  },
  {
   "cell_type": "code",
   "execution_count": null,
   "metadata": {},
   "outputs": [],
   "source": [
    "model_acc"
   ]
  },
  {
   "cell_type": "markdown",
   "metadata": {},
   "source": [
    "### Training and Validating the Neural Predictor"
   ]
  },
  {
   "cell_type": "code",
   "execution_count": null,
   "metadata": {},
   "outputs": [],
   "source": []
  },
  {
   "cell_type": "markdown",
   "metadata": {},
   "source": [
    "### Predictive Performance Analysis of the Predictor"
   ]
  },
  {
   "cell_type": "code",
   "execution_count": null,
   "metadata": {},
   "outputs": [],
   "source": []
  },
  {
   "cell_type": "markdown",
   "metadata": {},
   "source": [
    "### Finding High Quality Mobile Sized Models"
   ]
  },
  {
   "cell_type": "code",
   "execution_count": null,
   "metadata": {},
   "outputs": [],
   "source": []
  }
 ],
 "metadata": {
  "kernelspec": {
   "display_name": "Python 3",
   "language": "python",
   "name": "python3"
  },
  "language_info": {
   "codemirror_mode": {
    "name": "ipython",
    "version": 3
   },
   "file_extension": ".py",
   "mimetype": "text/x-python",
   "name": "python",
   "nbconvert_exporter": "python",
   "pygments_lexer": "ipython3",
   "version": "3.9.4"
  }
 },
 "nbformat": 4,
 "nbformat_minor": 4
}
