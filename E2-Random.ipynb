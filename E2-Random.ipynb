{
 "cells": [
  {
   "cell_type": "code",
   "execution_count": 1,
   "metadata": {},
   "outputs": [],
   "source": [
    "import os\n",
    "import random\n",
    "import yaml\n",
    "import numpy as np\n",
    "import pandas as pd\n",
    "import tensorflow as tf\n",
    "import tensorflow_datasets as tfds\n",
    "\n",
    "from latency_estimator import LatencyEstimator\n",
    "from tqdm.notebook import tqdm\n",
    "from random_search import proxylessnas_random\n",
    "from search_spaces import load_proxylessnas"
   ]
  },
  {
   "cell_type": "code",
   "execution_count": 2,
   "metadata": {},
   "outputs": [],
   "source": [
    "os.environ[\"CUDA_DEVICE_ORDER\"] = \"PCI_BUS_ID\"\n",
    "os.environ[\"CUDA_VISIBLE_DEVICES\"] = \"1\"\n",
    "os.environ[\"TF_FORCE_GPU_ALLOW_GROWTH\"] = \"true\""
   ]
  },
  {
   "cell_type": "markdown",
   "metadata": {},
   "source": [
    "## ImageNet Experiments"
   ]
  },
  {
   "cell_type": "markdown",
   "metadata": {},
   "source": [
    "### Data Preprocessing"
   ]
  },
  {
   "cell_type": "code",
   "execution_count": 3,
   "metadata": {},
   "outputs": [],
   "source": [
    "IMG_SIZE = (224, 224)\n",
    "def preprocess_image(image, label):\n",
    "    image = tf.cast(image, tf.float32)\n",
    "    image = tf.keras.applications.mobilenet_v2.preprocess_input(image)\n",
    "    return tf.image.resize(image, size=IMG_SIZE), label"
   ]
  },
  {
   "cell_type": "code",
   "execution_count": 4,
   "metadata": {},
   "outputs": [],
   "source": [
    "ds, info = tfds.load('cifar100', as_supervised=True, with_info=True)"
   ]
  },
  {
   "cell_type": "code",
   "execution_count": 5,
   "metadata": {},
   "outputs": [],
   "source": [
    "raw_train = ds['train']\n",
    "raw_test = ds['test']"
   ]
  },
  {
   "cell_type": "code",
   "execution_count": 6,
   "metadata": {},
   "outputs": [],
   "source": [
    "BATCH_SIZE = 128\n",
    "\n",
    "raw_valid, raw_test = raw_test.take(5000), raw_test.skip(5000)\n",
    "train, valid, test = raw_train.take(10000).map(preprocess_image), raw_valid.map(preprocess_image), raw_test.map(preprocess_image)\n",
    "train_batches, valid_batches, test_batches = train.shuffle(1024).batch(BATCH_SIZE), valid.batch(BATCH_SIZE), test.batch(BATCH_SIZE)"
   ]
  },
  {
   "cell_type": "markdown",
   "metadata": {},
   "source": [
    "### Random Search (Lower Bound Baseline)"
   ]
  },
  {
   "cell_type": "code",
   "execution_count": 7,
   "metadata": {
    "scrolled": true,
    "tags": []
   },
   "outputs": [
    {
     "data": {
      "application/vnd.jupyter.widget-view+json": {
       "model_id": "fe828ea7dcd54a5d9fd4ae81111ea34a",
       "version_major": 2,
       "version_minor": 0
      },
      "text/plain": [
       "  0%|          | 0/300 [00:00<?, ?it/s]"
      ]
     },
     "metadata": {},
     "output_type": "display_data"
    },
    {
     "name": "stdout",
     "output_type": "stream",
     "text": [
      "40/40 [==============================] - 4s 61ms/step - loss: 4.7706 - accuracy: 0.1664\n",
      "40/40 [==============================] - 2s 57ms/step - loss: 4.8109 - accuracy: 0.1678\n",
      "40/40 [==============================] - 4s 57ms/step - loss: 4.7396 - accuracy: 0.1168\n",
      "40/40 [==============================] - 2s 50ms/step - loss: 4.7191 - accuracy: 0.1222\n",
      "40/40 [==============================] - 3s 51ms/step - loss: 4.6364 - accuracy: 0.1358\n",
      "40/40 [==============================] - 2s 54ms/step - loss: 4.6540 - accuracy: 0.1324\n",
      "40/40 [==============================] - 4s 59ms/step - loss: 4.4712 - accuracy: 0.1356\n",
      "40/40 [==============================] - 2s 58ms/step - loss: 4.4694 - accuracy: 0.1362\n",
      "40/40 [==============================] - 4s 60ms/step - loss: 4.6218 - accuracy: 0.1350\n",
      "40/40 [==============================] - 3s 60ms/step - loss: 4.6607 - accuracy: 0.1232\n",
      "40/40 [==============================] - 3s 54ms/step - loss: 4.6820 - accuracy: 0.1340\n",
      "40/40 [==============================] - 2s 53ms/step - loss: 4.7180 - accuracy: 0.1344\n",
      "40/40 [==============================] - 3s 50ms/step - loss: 4.5813 - accuracy: 0.1410\n",
      "40/40 [==============================] - 2s 51ms/step - loss: 4.5594 - accuracy: 0.1502\n",
      "40/40 [==============================] - 3s 51ms/step - loss: 4.5290 - accuracy: 0.1370\n",
      "40/40 [==============================] - 2s 53ms/step - loss: 4.5544 - accuracy: 0.1340\n",
      "40/40 [==============================] - 4s 52ms/step - loss: 4.7666 - accuracy: 0.1252\n",
      "40/40 [==============================] - 2s 51ms/step - loss: 4.7100 - accuracy: 0.1304\n",
      "40/40 [==============================] - 4s 56ms/step - loss: 4.6913 - accuracy: 0.1116\n",
      "40/40 [==============================] - 2s 58ms/step - loss: 4.7052 - accuracy: 0.1130\n",
      "40/40 [==============================] - 4s 55ms/step - loss: 4.6907 - accuracy: 0.1272\n",
      "40/40 [==============================] - 2s 54ms/step - loss: 4.7011 - accuracy: 0.1318\n",
      "40/40 [==============================] - 4s 51ms/step - loss: 4.5824 - accuracy: 0.1482\n",
      "40/40 [==============================] - 2s 54ms/step - loss: 4.5698 - accuracy: 0.1540\n",
      "40/40 [==============================] - 4s 56ms/step - loss: 4.6705 - accuracy: 0.1210\n",
      "40/40 [==============================] - 2s 55ms/step - loss: 4.6761 - accuracy: 0.1292\n",
      "40/40 [==============================] - 4s 59ms/step - loss: 4.7068 - accuracy: 0.1356\n",
      "40/40 [==============================] - 2s 58ms/step - loss: 4.7374 - accuracy: 0.1404\n",
      "40/40 [==============================] - 4s 58ms/step - loss: 4.7833 - accuracy: 0.1214\n",
      "40/40 [==============================] - 2s 58ms/step - loss: 4.7767 - accuracy: 0.1232\n",
      "40/40 [==============================] - 3s 50ms/step - loss: 4.6436 - accuracy: 0.1334\n",
      "40/40 [==============================] - 2s 52ms/step - loss: 4.6935 - accuracy: 0.1224\n",
      "40/40 [==============================] - 4s 64ms/step - loss: 4.7082 - accuracy: 0.1372\n",
      "40/40 [==============================] - 3s 64ms/step - loss: 4.7073 - accuracy: 0.1400\n",
      "40/40 [==============================] - 4s 64ms/step - loss: 4.7055 - accuracy: 0.1422\n",
      "40/40 [==============================] - 3s 62ms/step - loss: 4.7038 - accuracy: 0.1392\n",
      "40/40 [==============================] - 4s 54ms/step - loss: 4.5535 - accuracy: 0.1324\n",
      "40/40 [==============================] - 2s 55ms/step - loss: 4.5533 - accuracy: 0.1272\n",
      "40/40 [==============================] - 4s 53ms/step - loss: 4.6114 - accuracy: 0.1240\n",
      "40/40 [==============================] - 2s 53ms/step - loss: 4.5904 - accuracy: 0.1252\n",
      "40/40 [==============================] - 3s 51ms/step - loss: 4.7193 - accuracy: 0.1244\n",
      "40/40 [==============================] - 2s 52ms/step - loss: 4.7102 - accuracy: 0.1230\n",
      "40/40 [==============================] - 4s 52ms/step - loss: 4.7353 - accuracy: 0.1324\n",
      "40/40 [==============================] - 2s 52ms/step - loss: 4.7116 - accuracy: 0.1342\n",
      "40/40 [==============================] - 4s 55ms/step - loss: 4.6459 - accuracy: 0.1308\n",
      "40/40 [==============================] - 2s 54ms/step - loss: 4.6651 - accuracy: 0.1406\n",
      "40/40 [==============================] - 3s 52ms/step - loss: 4.5619 - accuracy: 0.1468\n",
      "40/40 [==============================] - 2s 52ms/step - loss: 4.5608 - accuracy: 0.1484\n",
      "40/40 [==============================] - 4s 55ms/step - loss: 4.7114 - accuracy: 0.1544\n",
      "40/40 [==============================] - 2s 55ms/step - loss: 4.7240 - accuracy: 0.1510\n",
      "40/40 [==============================] - 4s 55ms/step - loss: 4.7277 - accuracy: 0.1332\n",
      "40/40 [==============================] - 2s 55ms/step - loss: 4.7215 - accuracy: 0.1322\n",
      "40/40 [==============================] - 3s 53ms/step - loss: 4.5346 - accuracy: 0.1400\n",
      "40/40 [==============================] - 2s 51ms/step - loss: 4.5524 - accuracy: 0.1404\n",
      "40/40 [==============================] - 3s 52ms/step - loss: 4.5143 - accuracy: 0.1492\n",
      "40/40 [==============================] - 2s 52ms/step - loss: 4.5540 - accuracy: 0.1480\n",
      "40/40 [==============================] - 4s 54ms/step - loss: 4.6852 - accuracy: 0.1142\n",
      "40/40 [==============================] - 2s 53ms/step - loss: 4.6860 - accuracy: 0.1200\n",
      "40/40 [==============================] - 3s 53ms/step - loss: 4.7337 - accuracy: 0.1342\n",
      "40/40 [==============================] - 2s 52ms/step - loss: 4.7463 - accuracy: 0.1434\n",
      "40/40 [==============================] - 3s 50ms/step - loss: 4.6709 - accuracy: 0.1106\n",
      "40/40 [==============================] - 2s 53ms/step - loss: 4.6578 - accuracy: 0.1170\n",
      "40/40 [==============================] - 3s 51ms/step - loss: 4.5896 - accuracy: 0.1300\n",
      "40/40 [==============================] - 2s 52ms/step - loss: 4.5845 - accuracy: 0.1284\n",
      "40/40 [==============================] - 4s 57ms/step - loss: 4.8246 - accuracy: 0.1250\n",
      "40/40 [==============================] - 2s 57ms/step - loss: 4.7771 - accuracy: 0.1262\n",
      "40/40 [==============================] - 3s 52ms/step - loss: 4.5201 - accuracy: 0.1226\n",
      "40/40 [==============================] - 2s 53ms/step - loss: 4.5205 - accuracy: 0.1232\n",
      "40/40 [==============================] - 3s 50ms/step - loss: 4.5735 - accuracy: 0.1220\n",
      "40/40 [==============================] - 2s 51ms/step - loss: 4.5694 - accuracy: 0.1308\n",
      "40/40 [==============================] - 4s 53ms/step - loss: 4.6942 - accuracy: 0.1268\n",
      "40/40 [==============================] - 2s 51ms/step - loss: 4.7081 - accuracy: 0.1338\n",
      "40/40 [==============================] - 3s 53ms/step - loss: 4.7314 - accuracy: 0.1366\n",
      "40/40 [==============================] - 2s 53ms/step - loss: 4.7558 - accuracy: 0.1404\n",
      "40/40 [==============================] - 3s 54ms/step - loss: 4.5677 - accuracy: 0.1598\n",
      "40/40 [==============================] - 2s 55ms/step - loss: 4.5807 - accuracy: 0.1548\n",
      "40/40 [==============================] - 4s 58ms/step - loss: 4.6287 - accuracy: 0.1252\n",
      "40/40 [==============================] - 2s 58ms/step - loss: 4.6168 - accuracy: 0.1280\n",
      "40/40 [==============================] - 3s 55ms/step - loss: 4.5737 - accuracy: 0.1420\n",
      "40/40 [==============================] - 2s 55ms/step - loss: 4.5907 - accuracy: 0.1406\n",
      "40/40 [==============================] - 3s 52ms/step - loss: 4.5852 - accuracy: 0.1374\n",
      "40/40 [==============================] - 2s 52ms/step - loss: 4.6508 - accuracy: 0.1280\n",
      "40/40 [==============================] - 4s 54ms/step - loss: 4.5086 - accuracy: 0.1226\n",
      "40/40 [==============================] - 2s 52ms/step - loss: 4.5197 - accuracy: 0.1256\n",
      "40/40 [==============================] - 4s 54ms/step - loss: 4.6893 - accuracy: 0.1304\n",
      "40/40 [==============================] - 2s 52ms/step - loss: 4.6806 - accuracy: 0.1296\n",
      "40/40 [==============================] - 3s 53ms/step - loss: 4.6677 - accuracy: 0.1284\n",
      "40/40 [==============================] - 2s 52ms/step - loss: 4.6662 - accuracy: 0.1306\n",
      "40/40 [==============================] - 3s 52ms/step - loss: 4.6457 - accuracy: 0.1234\n",
      "40/40 [==============================] - 2s 52ms/step - loss: 4.6443 - accuracy: 0.1310\n",
      "40/40 [==============================] - 3s 52ms/step - loss: 4.6902 - accuracy: 0.1364\n",
      "40/40 [==============================] - 2s 51ms/step - loss: 4.7184 - accuracy: 0.1390\n",
      "40/40 [==============================] - 4s 54ms/step - loss: 4.6733 - accuracy: 0.1386\n",
      "40/40 [==============================] - 2s 54ms/step - loss: 4.7130 - accuracy: 0.1388\n",
      "40/40 [==============================] - 3s 57ms/step - loss: 4.7744 - accuracy: 0.1450\n",
      "40/40 [==============================] - 2s 56ms/step - loss: 4.8029 - accuracy: 0.1420\n",
      "40/40 [==============================] - 4s 51ms/step - loss: 4.6081 - accuracy: 0.1250\n",
      "40/40 [==============================] - 2s 51ms/step - loss: 4.6637 - accuracy: 0.1106\n",
      "40/40 [==============================] - 4s 52ms/step - loss: 4.5461 - accuracy: 0.1224\n",
      "40/40 [==============================] - 2s 52ms/step - loss: 4.5420 - accuracy: 0.1246\n",
      "40/40 [==============================] - 4s 53ms/step - loss: 4.4224 - accuracy: 0.1362\n",
      "40/40 [==============================] - 2s 52ms/step - loss: 4.4187 - accuracy: 0.1426\n",
      "40/40 [==============================] - 4s 55ms/step - loss: 4.6475 - accuracy: 0.1572\n",
      "40/40 [==============================] - 2s 56ms/step - loss: 4.6498 - accuracy: 0.1572\n",
      "40/40 [==============================] - 4s 50ms/step - loss: 4.7641 - accuracy: 0.1274\n",
      "40/40 [==============================] - 2s 50ms/step - loss: 4.8188 - accuracy: 0.1220\n",
      "40/40 [==============================] - 4s 56ms/step - loss: 4.7922 - accuracy: 0.1186\n",
      "40/40 [==============================] - 2s 56ms/step - loss: 4.7959 - accuracy: 0.1198\n",
      "40/40 [==============================] - 4s 56ms/step - loss: 4.4526 - accuracy: 0.1236\n",
      "40/40 [==============================] - 2s 55ms/step - loss: 4.4584 - accuracy: 0.1252\n",
      "40/40 [==============================] - 3s 52ms/step - loss: 4.7342 - accuracy: 0.1400\n",
      "40/40 [==============================] - 2s 51ms/step - loss: 4.7506 - accuracy: 0.1492\n",
      "40/40 [==============================] - 3s 52ms/step - loss: 4.5807 - accuracy: 0.1446\n",
      "40/40 [==============================] - 2s 52ms/step - loss: 4.5930 - accuracy: 0.1376\n",
      "40/40 [==============================] - 3s 52ms/step - loss: 4.6683 - accuracy: 0.1158\n",
      "40/40 [==============================] - 2s 49ms/step - loss: 4.6350 - accuracy: 0.1180\n",
      "40/40 [==============================] - 4s 60ms/step - loss: 4.7531 - accuracy: 0.1242\n",
      "40/40 [==============================] - 3s 60ms/step - loss: 4.7816 - accuracy: 0.1232\n",
      "40/40 [==============================] - 4s 64ms/step - loss: 4.6535 - accuracy: 0.1232\n",
      "40/40 [==============================] - 3s 63ms/step - loss: 4.6220 - accuracy: 0.1270\n",
      "40/40 [==============================] - 4s 63ms/step - loss: 4.7713 - accuracy: 0.1130\n",
      "40/40 [==============================] - 3s 61ms/step - loss: 4.7878 - accuracy: 0.1162\n",
      "40/40 [==============================] - 4s 55ms/step - loss: 4.6632 - accuracy: 0.1400\n",
      "40/40 [==============================] - 2s 55ms/step - loss: 4.6881 - accuracy: 0.1414\n",
      "40/40 [==============================] - 4s 56ms/step - loss: 4.8159 - accuracy: 0.1198\n",
      "40/40 [==============================] - 2s 55ms/step - loss: 4.7827 - accuracy: 0.1236\n",
      "40/40 [==============================] - 3s 51ms/step - loss: 4.8323 - accuracy: 0.1448\n",
      "40/40 [==============================] - 2s 51ms/step - loss: 4.8292 - accuracy: 0.1518\n",
      "40/40 [==============================] - 3s 52ms/step - loss: 4.5720 - accuracy: 0.1160\n",
      "40/40 [==============================] - 2s 53ms/step - loss: 4.5620 - accuracy: 0.1258\n",
      "40/40 [==============================] - 3s 50ms/step - loss: 4.7672 - accuracy: 0.1442\n",
      "40/40 [==============================] - 2s 53ms/step - loss: 4.7738 - accuracy: 0.1414\n",
      "40/40 [==============================] - 3s 55ms/step - loss: 4.4550 - accuracy: 0.1416\n",
      "40/40 [==============================] - 2s 54ms/step - loss: 4.4726 - accuracy: 0.1406\n",
      "40/40 [==============================] - 4s 52ms/step - loss: 4.7155 - accuracy: 0.1284\n",
      "40/40 [==============================] - 2s 55ms/step - loss: 4.7031 - accuracy: 0.1352\n",
      "40/40 [==============================] - 3s 51ms/step - loss: 4.6374 - accuracy: 0.1354\n",
      "40/40 [==============================] - 2s 52ms/step - loss: 4.6783 - accuracy: 0.1332\n",
      "40/40 [==============================] - 4s 58ms/step - loss: 4.5917 - accuracy: 0.1292\n",
      "40/40 [==============================] - 2s 58ms/step - loss: 4.5688 - accuracy: 0.1414\n",
      "40/40 [==============================] - 4s 58ms/step - loss: 4.4887 - accuracy: 0.1440\n",
      "40/40 [==============================] - 2s 57ms/step - loss: 4.5067 - accuracy: 0.1458\n",
      "40/40 [==============================] - 3s 51ms/step - loss: 4.6017 - accuracy: 0.1374\n",
      "40/40 [==============================] - 2s 53ms/step - loss: 4.5757 - accuracy: 0.1396\n",
      "40/40 [==============================] - 3s 55ms/step - loss: 4.6088 - accuracy: 0.1404\n",
      "40/40 [==============================] - 2s 54ms/step - loss: 4.6134 - accuracy: 0.1466\n",
      "40/40 [==============================] - 3s 54ms/step - loss: 4.8923 - accuracy: 0.1376\n",
      "40/40 [==============================] - 2s 54ms/step - loss: 4.8546 - accuracy: 0.1464\n",
      "40/40 [==============================] - 3s 54ms/step - loss: 4.5883 - accuracy: 0.1214\n",
      "40/40 [==============================] - 2s 53ms/step - loss: 4.5832 - accuracy: 0.1282\n",
      "40/40 [==============================] - 4s 53ms/step - loss: 4.5811 - accuracy: 0.1364\n",
      "40/40 [==============================] - 2s 54ms/step - loss: 4.6145 - accuracy: 0.1274\n",
      "40/40 [==============================] - 3s 52ms/step - loss: 4.9199 - accuracy: 0.1216\n",
      "40/40 [==============================] - 2s 53ms/step - loss: 4.9278 - accuracy: 0.1190\n",
      "40/40 [==============================] - 3s 52ms/step - loss: 4.8952 - accuracy: 0.1346\n",
      "40/40 [==============================] - 2s 54ms/step - loss: 4.9011 - accuracy: 0.1328\n",
      "40/40 [==============================] - 4s 54ms/step - loss: 4.6976 - accuracy: 0.1342\n",
      "40/40 [==============================] - 2s 53ms/step - loss: 4.7150 - accuracy: 0.1316\n",
      "40/40 [==============================] - 5s 78ms/step - loss: 4.7173 - accuracy: 0.1202\n",
      "40/40 [==============================] - 3s 75ms/step - loss: 4.7137 - accuracy: 0.1264\n",
      "40/40 [==============================] - 4s 54ms/step - loss: 4.6478 - accuracy: 0.1078\n",
      "40/40 [==============================] - 2s 53ms/step - loss: 4.6284 - accuracy: 0.1158\n",
      "40/40 [==============================] - 3s 54ms/step - loss: 4.8200 - accuracy: 0.1224\n",
      "40/40 [==============================] - 2s 54ms/step - loss: 4.7856 - accuracy: 0.1264\n",
      "40/40 [==============================] - 4s 52ms/step - loss: 4.7390 - accuracy: 0.1310\n",
      "40/40 [==============================] - 2s 55ms/step - loss: 4.7743 - accuracy: 0.1310\n",
      "40/40 [==============================] - 3s 55ms/step - loss: 4.6890 - accuracy: 0.1386\n",
      "40/40 [==============================] - 2s 55ms/step - loss: 4.6761 - accuracy: 0.1372\n",
      "40/40 [==============================] - 4s 65ms/step - loss: 4.5481 - accuracy: 0.1350\n",
      "40/40 [==============================] - 3s 65ms/step - loss: 4.5797 - accuracy: 0.1296\n",
      "40/40 [==============================] - 4s 56ms/step - loss: 4.7447 - accuracy: 0.1242\n",
      "40/40 [==============================] - 2s 57ms/step - loss: 4.7116 - accuracy: 0.1286\n"
     ]
    },
    {
     "ename": "KeyboardInterrupt",
     "evalue": "",
     "output_type": "error",
     "traceback": [
      "\u001b[0;31m---------------------------------------------------------------------------\u001b[0m",
      "\u001b[0;31mKeyboardInterrupt\u001b[0m                         Traceback (most recent call last)",
      "\u001b[0;32m<ipython-input-7-fda55faeb2e2>\u001b[0m in \u001b[0;36m<module>\u001b[0;34m\u001b[0m\n\u001b[1;32m     11\u001b[0m     \u001b[0mmodel\u001b[0m\u001b[0;34m.\u001b[0m\u001b[0mcompile\u001b[0m\u001b[0;34m(\u001b[0m\u001b[0moptimizer\u001b[0m\u001b[0;34m=\u001b[0m\u001b[0mtf\u001b[0m\u001b[0;34m.\u001b[0m\u001b[0mkeras\u001b[0m\u001b[0;34m.\u001b[0m\u001b[0moptimizers\u001b[0m\u001b[0;34m.\u001b[0m\u001b[0mRMSprop\u001b[0m\u001b[0;34m(\u001b[0m\u001b[0mlearning_rate\u001b[0m\u001b[0;34m=\u001b[0m\u001b[0mlr_schedule\u001b[0m\u001b[0;34m,\u001b[0m \u001b[0mrho\u001b[0m\u001b[0;34m=\u001b[0m\u001b[0;36m0.9\u001b[0m\u001b[0;34m,\u001b[0m \u001b[0mmomentum\u001b[0m\u001b[0;34m=\u001b[0m\u001b[0;36m0.9\u001b[0m\u001b[0;34m,\u001b[0m \u001b[0mepsilon\u001b[0m\u001b[0;34m=\u001b[0m\u001b[0;36m0.1\u001b[0m\u001b[0;34m)\u001b[0m\u001b[0;34m,\u001b[0m \u001b[0mloss\u001b[0m\u001b[0;34m=\u001b[0m\u001b[0;34m'sparse_categorical_crossentropy'\u001b[0m\u001b[0;34m,\u001b[0m \u001b[0mmetrics\u001b[0m\u001b[0;34m=\u001b[0m\u001b[0;34m[\u001b[0m\u001b[0;34m'accuracy'\u001b[0m\u001b[0;34m]\u001b[0m\u001b[0;34m)\u001b[0m\u001b[0;34m\u001b[0m\u001b[0;34m\u001b[0m\u001b[0m\n\u001b[1;32m     12\u001b[0m \u001b[0;34m\u001b[0m\u001b[0m\n\u001b[0;32m---> 13\u001b[0;31m     \u001b[0mmodel\u001b[0m\u001b[0;34m.\u001b[0m\u001b[0mfit\u001b[0m\u001b[0;34m(\u001b[0m\u001b[0mtrain_batches\u001b[0m\u001b[0;34m,\u001b[0m \u001b[0mepochs\u001b[0m\u001b[0;34m=\u001b[0m\u001b[0;36m90\u001b[0m\u001b[0;34m,\u001b[0m \u001b[0mverbose\u001b[0m\u001b[0;34m=\u001b[0m\u001b[0;36m0\u001b[0m\u001b[0;34m)\u001b[0m\u001b[0;34m\u001b[0m\u001b[0;34m\u001b[0m\u001b[0m\n\u001b[0m\u001b[1;32m     14\u001b[0m \u001b[0;34m\u001b[0m\u001b[0m\n\u001b[1;32m     15\u001b[0m     \u001b[0m_\u001b[0m\u001b[0;34m,\u001b[0m \u001b[0maccuracy\u001b[0m \u001b[0;34m=\u001b[0m \u001b[0mmodel\u001b[0m\u001b[0;34m.\u001b[0m\u001b[0mevaluate\u001b[0m\u001b[0;34m(\u001b[0m\u001b[0mvalid_batches\u001b[0m\u001b[0;34m)\u001b[0m\u001b[0;34m\u001b[0m\u001b[0;34m\u001b[0m\u001b[0m\n",
      "\u001b[0;32m~/anaconda3/envs/patara/lib/python3.7/site-packages/tensorflow/python/keras/engine/training.py\u001b[0m in \u001b[0;36mfit\u001b[0;34m(self, x, y, batch_size, epochs, verbose, callbacks, validation_split, validation_data, shuffle, class_weight, sample_weight, initial_epoch, steps_per_epoch, validation_steps, validation_batch_size, validation_freq, max_queue_size, workers, use_multiprocessing)\u001b[0m\n\u001b[1;32m   1098\u001b[0m                 _r=1):\n\u001b[1;32m   1099\u001b[0m               \u001b[0mcallbacks\u001b[0m\u001b[0;34m.\u001b[0m\u001b[0mon_train_batch_begin\u001b[0m\u001b[0;34m(\u001b[0m\u001b[0mstep\u001b[0m\u001b[0;34m)\u001b[0m\u001b[0;34m\u001b[0m\u001b[0;34m\u001b[0m\u001b[0m\n\u001b[0;32m-> 1100\u001b[0;31m               \u001b[0mtmp_logs\u001b[0m \u001b[0;34m=\u001b[0m \u001b[0mself\u001b[0m\u001b[0;34m.\u001b[0m\u001b[0mtrain_function\u001b[0m\u001b[0;34m(\u001b[0m\u001b[0miterator\u001b[0m\u001b[0;34m)\u001b[0m\u001b[0;34m\u001b[0m\u001b[0;34m\u001b[0m\u001b[0m\n\u001b[0m\u001b[1;32m   1101\u001b[0m               \u001b[0;32mif\u001b[0m \u001b[0mdata_handler\u001b[0m\u001b[0;34m.\u001b[0m\u001b[0mshould_sync\u001b[0m\u001b[0;34m:\u001b[0m\u001b[0;34m\u001b[0m\u001b[0;34m\u001b[0m\u001b[0m\n\u001b[1;32m   1102\u001b[0m                 \u001b[0mcontext\u001b[0m\u001b[0;34m.\u001b[0m\u001b[0masync_wait\u001b[0m\u001b[0;34m(\u001b[0m\u001b[0;34m)\u001b[0m\u001b[0;34m\u001b[0m\u001b[0;34m\u001b[0m\u001b[0m\n",
      "\u001b[0;32m~/anaconda3/envs/patara/lib/python3.7/site-packages/tensorflow/python/eager/def_function.py\u001b[0m in \u001b[0;36m__call__\u001b[0;34m(self, *args, **kwds)\u001b[0m\n\u001b[1;32m    826\u001b[0m     \u001b[0mtracing_count\u001b[0m \u001b[0;34m=\u001b[0m \u001b[0mself\u001b[0m\u001b[0;34m.\u001b[0m\u001b[0mexperimental_get_tracing_count\u001b[0m\u001b[0;34m(\u001b[0m\u001b[0;34m)\u001b[0m\u001b[0;34m\u001b[0m\u001b[0;34m\u001b[0m\u001b[0m\n\u001b[1;32m    827\u001b[0m     \u001b[0;32mwith\u001b[0m \u001b[0mtrace\u001b[0m\u001b[0;34m.\u001b[0m\u001b[0mTrace\u001b[0m\u001b[0;34m(\u001b[0m\u001b[0mself\u001b[0m\u001b[0;34m.\u001b[0m\u001b[0m_name\u001b[0m\u001b[0;34m)\u001b[0m \u001b[0;32mas\u001b[0m \u001b[0mtm\u001b[0m\u001b[0;34m:\u001b[0m\u001b[0;34m\u001b[0m\u001b[0;34m\u001b[0m\u001b[0m\n\u001b[0;32m--> 828\u001b[0;31m       \u001b[0mresult\u001b[0m \u001b[0;34m=\u001b[0m \u001b[0mself\u001b[0m\u001b[0;34m.\u001b[0m\u001b[0m_call\u001b[0m\u001b[0;34m(\u001b[0m\u001b[0;34m*\u001b[0m\u001b[0margs\u001b[0m\u001b[0;34m,\u001b[0m \u001b[0;34m**\u001b[0m\u001b[0mkwds\u001b[0m\u001b[0;34m)\u001b[0m\u001b[0;34m\u001b[0m\u001b[0;34m\u001b[0m\u001b[0m\n\u001b[0m\u001b[1;32m    829\u001b[0m       \u001b[0mcompiler\u001b[0m \u001b[0;34m=\u001b[0m \u001b[0;34m\"xla\"\u001b[0m \u001b[0;32mif\u001b[0m \u001b[0mself\u001b[0m\u001b[0;34m.\u001b[0m\u001b[0m_experimental_compile\u001b[0m \u001b[0;32melse\u001b[0m \u001b[0;34m\"nonXla\"\u001b[0m\u001b[0;34m\u001b[0m\u001b[0;34m\u001b[0m\u001b[0m\n\u001b[1;32m    830\u001b[0m       \u001b[0mnew_tracing_count\u001b[0m \u001b[0;34m=\u001b[0m \u001b[0mself\u001b[0m\u001b[0;34m.\u001b[0m\u001b[0mexperimental_get_tracing_count\u001b[0m\u001b[0;34m(\u001b[0m\u001b[0;34m)\u001b[0m\u001b[0;34m\u001b[0m\u001b[0;34m\u001b[0m\u001b[0m\n",
      "\u001b[0;32m~/anaconda3/envs/patara/lib/python3.7/site-packages/tensorflow/python/eager/def_function.py\u001b[0m in \u001b[0;36m_call\u001b[0;34m(self, *args, **kwds)\u001b[0m\n\u001b[1;32m    853\u001b[0m       \u001b[0;31m# In this case we have created variables on the first call, so we run the\u001b[0m\u001b[0;34m\u001b[0m\u001b[0;34m\u001b[0m\u001b[0;34m\u001b[0m\u001b[0m\n\u001b[1;32m    854\u001b[0m       \u001b[0;31m# defunned version which is guaranteed to never create variables.\u001b[0m\u001b[0;34m\u001b[0m\u001b[0;34m\u001b[0m\u001b[0;34m\u001b[0m\u001b[0m\n\u001b[0;32m--> 855\u001b[0;31m       \u001b[0;32mreturn\u001b[0m \u001b[0mself\u001b[0m\u001b[0;34m.\u001b[0m\u001b[0m_stateless_fn\u001b[0m\u001b[0;34m(\u001b[0m\u001b[0;34m*\u001b[0m\u001b[0margs\u001b[0m\u001b[0;34m,\u001b[0m \u001b[0;34m**\u001b[0m\u001b[0mkwds\u001b[0m\u001b[0;34m)\u001b[0m  \u001b[0;31m# pylint: disable=not-callable\u001b[0m\u001b[0;34m\u001b[0m\u001b[0;34m\u001b[0m\u001b[0m\n\u001b[0m\u001b[1;32m    856\u001b[0m     \u001b[0;32melif\u001b[0m \u001b[0mself\u001b[0m\u001b[0;34m.\u001b[0m\u001b[0m_stateful_fn\u001b[0m \u001b[0;32mis\u001b[0m \u001b[0;32mnot\u001b[0m \u001b[0;32mNone\u001b[0m\u001b[0;34m:\u001b[0m\u001b[0;34m\u001b[0m\u001b[0;34m\u001b[0m\u001b[0m\n\u001b[1;32m    857\u001b[0m       \u001b[0;31m# Release the lock early so that multiple threads can perform the call\u001b[0m\u001b[0;34m\u001b[0m\u001b[0;34m\u001b[0m\u001b[0;34m\u001b[0m\u001b[0m\n",
      "\u001b[0;32m~/anaconda3/envs/patara/lib/python3.7/site-packages/tensorflow/python/eager/function.py\u001b[0m in \u001b[0;36m__call__\u001b[0;34m(self, *args, **kwargs)\u001b[0m\n\u001b[1;32m   2941\u001b[0m        filtered_flat_args) = self._maybe_define_function(args, kwargs)\n\u001b[1;32m   2942\u001b[0m     return graph_function._call_flat(\n\u001b[0;32m-> 2943\u001b[0;31m         filtered_flat_args, captured_inputs=graph_function.captured_inputs)  # pylint: disable=protected-access\n\u001b[0m\u001b[1;32m   2944\u001b[0m \u001b[0;34m\u001b[0m\u001b[0m\n\u001b[1;32m   2945\u001b[0m   \u001b[0;34m@\u001b[0m\u001b[0mproperty\u001b[0m\u001b[0;34m\u001b[0m\u001b[0;34m\u001b[0m\u001b[0m\n",
      "\u001b[0;32m~/anaconda3/envs/patara/lib/python3.7/site-packages/tensorflow/python/eager/function.py\u001b[0m in \u001b[0;36m_call_flat\u001b[0;34m(self, args, captured_inputs, cancellation_manager)\u001b[0m\n\u001b[1;32m   1917\u001b[0m       \u001b[0;31m# No tape is watching; skip to running the function.\u001b[0m\u001b[0;34m\u001b[0m\u001b[0;34m\u001b[0m\u001b[0;34m\u001b[0m\u001b[0m\n\u001b[1;32m   1918\u001b[0m       return self._build_call_outputs(self._inference_function.call(\n\u001b[0;32m-> 1919\u001b[0;31m           ctx, args, cancellation_manager=cancellation_manager))\n\u001b[0m\u001b[1;32m   1920\u001b[0m     forward_backward = self._select_forward_and_backward_functions(\n\u001b[1;32m   1921\u001b[0m         \u001b[0margs\u001b[0m\u001b[0;34m,\u001b[0m\u001b[0;34m\u001b[0m\u001b[0;34m\u001b[0m\u001b[0m\n",
      "\u001b[0;32m~/anaconda3/envs/patara/lib/python3.7/site-packages/tensorflow/python/eager/function.py\u001b[0m in \u001b[0;36mcall\u001b[0;34m(self, ctx, args, cancellation_manager)\u001b[0m\n\u001b[1;32m    558\u001b[0m               \u001b[0minputs\u001b[0m\u001b[0;34m=\u001b[0m\u001b[0margs\u001b[0m\u001b[0;34m,\u001b[0m\u001b[0;34m\u001b[0m\u001b[0;34m\u001b[0m\u001b[0m\n\u001b[1;32m    559\u001b[0m               \u001b[0mattrs\u001b[0m\u001b[0;34m=\u001b[0m\u001b[0mattrs\u001b[0m\u001b[0;34m,\u001b[0m\u001b[0;34m\u001b[0m\u001b[0;34m\u001b[0m\u001b[0m\n\u001b[0;32m--> 560\u001b[0;31m               ctx=ctx)\n\u001b[0m\u001b[1;32m    561\u001b[0m         \u001b[0;32melse\u001b[0m\u001b[0;34m:\u001b[0m\u001b[0;34m\u001b[0m\u001b[0;34m\u001b[0m\u001b[0m\n\u001b[1;32m    562\u001b[0m           outputs = execute.execute_with_cancellation(\n",
      "\u001b[0;32m~/anaconda3/envs/patara/lib/python3.7/site-packages/tensorflow/python/eager/execute.py\u001b[0m in \u001b[0;36mquick_execute\u001b[0;34m(op_name, num_outputs, inputs, attrs, ctx, name)\u001b[0m\n\u001b[1;32m     58\u001b[0m     \u001b[0mctx\u001b[0m\u001b[0;34m.\u001b[0m\u001b[0mensure_initialized\u001b[0m\u001b[0;34m(\u001b[0m\u001b[0;34m)\u001b[0m\u001b[0;34m\u001b[0m\u001b[0;34m\u001b[0m\u001b[0m\n\u001b[1;32m     59\u001b[0m     tensors = pywrap_tfe.TFE_Py_Execute(ctx._handle, device_name, op_name,\n\u001b[0;32m---> 60\u001b[0;31m                                         inputs, attrs, num_outputs)\n\u001b[0m\u001b[1;32m     61\u001b[0m   \u001b[0;32mexcept\u001b[0m \u001b[0mcore\u001b[0m\u001b[0;34m.\u001b[0m\u001b[0m_NotOkStatusException\u001b[0m \u001b[0;32mas\u001b[0m \u001b[0me\u001b[0m\u001b[0;34m:\u001b[0m\u001b[0;34m\u001b[0m\u001b[0;34m\u001b[0m\u001b[0m\n\u001b[1;32m     62\u001b[0m     \u001b[0;32mif\u001b[0m \u001b[0mname\u001b[0m \u001b[0;32mis\u001b[0m \u001b[0;32mnot\u001b[0m \u001b[0;32mNone\u001b[0m\u001b[0;34m:\u001b[0m\u001b[0;34m\u001b[0m\u001b[0;34m\u001b[0m\u001b[0m\n",
      "\u001b[0;31mKeyboardInterrupt\u001b[0m: "
     ]
    }
   ],
   "source": [
    "reps = proxylessnas_random(300)\n",
    "\n",
    "model_acc = []\n",
    "\n",
    "for rep in tqdm(reps):\n",
    "    tf.keras.backend.clear_session()\n",
    "    \n",
    "    model = load_proxylessnas()(weights=None, classes=info.features['label'].num_classes, arch_kernel=rep)\n",
    "    \n",
    "    lr_schedule = tf.keras.experimental.CosineDecay(0.001, decay_steps=10000)\n",
    "    model.compile(optimizer=tf.keras.optimizers.RMSprop(learning_rate=lr_schedule, rho=0.9, momentum=0.9, epsilon=0.1), loss='sparse_categorical_crossentropy', metrics=['accuracy'])\n",
    "    \n",
    "    model.fit(train_batches, epochs=90, verbose=0)\n",
    "    \n",
    "    _, accuracy = model.evaluate(valid_batches)\n",
    "    _, test_accuracy = model.evaluate(test_batches)\n",
    "    model_acc.append({'arch': rep, 'val_acc': accuracy, 'test_acc': test_accuracy})"
   ]
  },
  {
   "cell_type": "code",
   "execution_count": 14,
   "metadata": {},
   "outputs": [],
   "source": [
    "for m in model_acc:\n",
    "    m['test_acc'] = 0."
   ]
  },
  {
   "cell_type": "code",
   "execution_count": 17,
   "metadata": {},
   "outputs": [],
   "source": [
    "np.save('outputs/model_acc_cifar100.npy', model_acc)"
   ]
  },
  {
   "cell_type": "markdown",
   "metadata": {},
   "source": [
    "### Training and Validating the Neural Predictor"
   ]
  },
  {
   "cell_type": "code",
   "execution_count": null,
   "metadata": {},
   "outputs": [],
   "source": []
  },
  {
   "cell_type": "markdown",
   "metadata": {},
   "source": [
    "### Predictive Performance Analysis of the Predictor"
   ]
  },
  {
   "cell_type": "code",
   "execution_count": null,
   "metadata": {},
   "outputs": [],
   "source": []
  },
  {
   "cell_type": "markdown",
   "metadata": {},
   "source": [
    "### Finding High Quality Mobile Sized Models"
   ]
  },
  {
   "cell_type": "code",
   "execution_count": null,
   "metadata": {},
   "outputs": [],
   "source": []
  }
 ],
 "metadata": {
  "kernelspec": {
   "display_name": "Python 3",
   "language": "python",
   "name": "python3"
  },
  "language_info": {
   "codemirror_mode": {
    "name": "ipython",
    "version": 3
   },
   "file_extension": ".py",
   "mimetype": "text/x-python",
   "name": "python",
   "nbconvert_exporter": "python",
   "pygments_lexer": "ipython3",
   "version": "3.7.10"
  }
 },
 "nbformat": 4,
 "nbformat_minor": 4
}
