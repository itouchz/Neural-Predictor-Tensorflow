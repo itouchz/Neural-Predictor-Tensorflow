{
 "cells": [
  {
   "cell_type": "code",
   "execution_count": 1,
   "metadata": {},
   "outputs": [],
   "source": [
    "import os\n",
    "import random\n",
    "import numpy as np\n",
    "import pandas as pd\n",
    "import tensorflow as tf\n",
    "\n",
    "from tqdm.notebook import tqdm\n",
    "from nasbench import api\n",
    "from search_spaces import load_nasbench_101\n",
    "from random_search import run_random_search, random_spec\n",
    "from neural_predictor import classifier, regressor, regressor_mlp, regressor_cnn\n",
    "from input_preprocessing import preprocess_nasbench"
   ]
  },
  {
   "cell_type": "code",
   "execution_count": 2,
   "metadata": {},
   "outputs": [],
   "source": [
    "os.environ[\"CUDA_DEVICE_ORDER\"] = \"PCI_BUS_ID\"\n",
    "os.environ[\"CUDA_VISIBLE_DEVICES\"] = \"1\"\n",
    "os.environ[\"TF_FORCE_GPU_ALLOW_GROWTH\"] = \"true\""
   ]
  },
  {
   "cell_type": "code",
   "execution_count": 3,
   "metadata": {},
   "outputs": [
    {
     "name": "stdout",
     "output_type": "stream",
     "text": [
      "Loading dataset from file... This may take a few minutes...\n",
      "WARNING:tensorflow:From /data2/home/patara/CS470-Project-Team3/nasbench/api.py:146: tf_record_iterator (from tensorflow.python.lib.io.tf_record) is deprecated and will be removed in a future version.\n",
      "Instructions for updating:\n",
      "Use eager execution and: \n",
      "`tf.data.TFRecordDataset(path)`\n",
      "Loaded dataset in 48 seconds\n"
     ]
    }
   ],
   "source": [
    "nasbench = load_nasbench_101()"
   ]
  },
  {
   "cell_type": "markdown",
   "metadata": {},
   "source": [
    "### Ablation Study 1: N vs K and Ablation Study"
   ]
  },
  {
   "cell_type": "code",
   "execution_count": 4,
   "metadata": {},
   "outputs": [],
   "source": [
    "LOOPS = 60\n",
    "MAX_SAMPLES = 2000\n",
    "MAX_TIME_BUDGET = 8e5"
   ]
  },
  {
   "cell_type": "code",
   "execution_count": 5,
   "metadata": {},
   "outputs": [],
   "source": [
    "def get_N_samples(N):\n",
    "    models = []\n",
    "\n",
    "    for _ in range(N):\n",
    "        while True:\n",
    "            model = random_spec(nasbench)\n",
    "            if model not in models:\n",
    "                models.append(nasbench.query(model))\n",
    "                break\n",
    "                \n",
    "    return preprocess_nasbench(models)"
   ]
  },
  {
   "cell_type": "code",
   "execution_count": 6,
   "metadata": {},
   "outputs": [],
   "source": [
    "results = {}"
   ]
  },
  {
   "cell_type": "code",
   "execution_count": 7,
   "metadata": {},
   "outputs": [
    {
     "data": {
      "application/vnd.jupyter.widget-view+json": {
       "model_id": "f7bc94722a2a4cc892aa68e14e9515ee",
       "version_major": 2,
       "version_minor": 0
      },
      "text/plain": [
       "  0%|          | 0/1957 [00:00<?, ?it/s]"
      ]
     },
     "metadata": {},
     "output_type": "display_data"
    },
    {
     "data": {
      "application/vnd.jupyter.widget-view+json": {
       "model_id": "d5be06cc9e4b48bb92d7a10c2cda59f3",
       "version_major": 2,
       "version_minor": 0
      },
      "text/plain": [
       "  0%|          | 0/1914 [00:00<?, ?it/s]"
      ]
     },
     "metadata": {},
     "output_type": "display_data"
    },
    {
     "data": {
      "application/vnd.jupyter.widget-view+json": {
       "model_id": "d3921a64419a4d67b6551b0c53f5c83b",
       "version_major": 2,
       "version_minor": 0
      },
      "text/plain": [
       "  0%|          | 0/1871 [00:00<?, ?it/s]"
      ]
     },
     "metadata": {},
     "output_type": "display_data"
    },
    {
     "data": {
      "application/vnd.jupyter.widget-view+json": {
       "model_id": "c8f2526ad2134c4a9e24f8de72d2ba43",
       "version_major": 2,
       "version_minor": 0
      },
      "text/plain": [
       "  0%|          | 0/1828 [00:00<?, ?it/s]"
      ]
     },
     "metadata": {},
     "output_type": "display_data"
    },
    {
     "data": {
      "application/vnd.jupyter.widget-view+json": {
       "model_id": "5c099f88e4b448118eb63cf0af53ec57",
       "version_major": 2,
       "version_minor": 0
      },
      "text/plain": [
       "  0%|          | 0/1656 [00:00<?, ?it/s]"
      ]
     },
     "metadata": {},
     "output_type": "display_data"
    },
    {
     "data": {
      "application/vnd.jupyter.widget-view+json": {
       "model_id": "225bfc44f801459f8785c211e02422fa",
       "version_major": 2,
       "version_minor": 0
      },
      "text/plain": [
       "  0%|          | 0/1140 [00:00<?, ?it/s]"
      ]
     },
     "metadata": {},
     "output_type": "display_data"
    }
   ],
   "source": [
    "for N in [43, 86, 129, 172, 344, 860]:\n",
    "    train_data = get_N_samples(N)\n",
    "    reg = regressor([train_data['X'], train_data['norm_A'], train_data['norm_AT']], train_data['val_acc'])\n",
    "    \n",
    "    np_val_avg, np_test_avg = [], []\n",
    "    np_val_std, np_test_std = [], []\n",
    "\n",
    "    val_acc, test_acc = [], []\n",
    "    for k in tqdm(range(MAX_SAMPLES - N)):\n",
    "        K = k + 1\n",
    "\n",
    "        test_models = get_N_samples(N+K)\n",
    "        pred_acc = reg.predict([test_models['X'], test_models['norm_A'], test_models['norm_AT']]).ravel()\n",
    "\n",
    "        topk_idx = tf.math.top_k(pred_acc, k=K).indices.numpy()\n",
    "        selected_val = test_models['val_acc'][topk_idx]\n",
    "        selected_test = test_models['test_acc'][topk_idx]\n",
    "\n",
    "        best_val_idx = np.argmax(selected_val)\n",
    "\n",
    "        val_acc.append(selected_val[best_val_idx])\n",
    "        test_acc.append(selected_test[best_val_idx])\n",
    "\n",
    "        np_val_avg.append(np.max(val_acc))\n",
    "        np_val_std.append(np.std(val_acc))\n",
    "\n",
    "        np_test_avg.append(np.max(test_acc))\n",
    "        np_test_std.append(np.std(test_acc))\n",
    "        \n",
    "    results[N] = {\n",
    "        'np_val_avg': np_val_avg,\n",
    "        'np_test_avg': np_test_avg,\n",
    "        'np_val_std': np_val_std,\n",
    "        'np_test_std': np_test_std\n",
    "    }"
   ]
  },
  {
   "cell_type": "code",
   "execution_count": 13,
   "metadata": {},
   "outputs": [],
   "source": [
    "np.save('outputs/ablation_study_by_samples.npy', results)"
   ]
  },
  {
   "cell_type": "markdown",
   "metadata": {},
   "source": [
    "### Ablation Study 2: MLP vs CNN vs GCN"
   ]
  },
  {
   "cell_type": "code",
   "execution_count": 17,
   "metadata": {},
   "outputs": [
    {
     "data": {
      "application/vnd.jupyter.widget-view+json": {
       "model_id": "cd903cf1e4bf49839b7e4d960f4981fa",
       "version_major": 2,
       "version_minor": 0
      },
      "text/plain": [
       "  0%|          | 0/1828 [00:00<?, ?it/s]"
      ]
     },
     "metadata": {},
     "output_type": "display_data"
    }
   ],
   "source": [
    "# MLP\n",
    "N = 172\n",
    "train_data = get_N_samples(N)\n",
    "reg = regressor_mlp(np.concatenate([train_data['X'], train_data['norm_A']], axis=-1), train_data['val_acc'])\n",
    "\n",
    "np_val_avg, np_test_avg = [], []\n",
    "np_val_std, np_test_std = [], []\n",
    "\n",
    "val_acc, test_acc = [], []\n",
    "for k in tqdm(range(MAX_SAMPLES - N)):\n",
    "    K = k + 1\n",
    "\n",
    "    test_models = get_N_samples(N+K)\n",
    "    pred_acc = reg.predict(np.concatenate([test_models['X'], test_models['norm_A']], axis=-1)).ravel()\n",
    "\n",
    "    topk_idx = tf.math.top_k(pred_acc, k=K).indices.numpy()\n",
    "    selected_val = test_models['val_acc'][topk_idx]\n",
    "    selected_test = test_models['test_acc'][topk_idx]\n",
    "\n",
    "    best_val_idx = np.argmax(selected_val)\n",
    "\n",
    "    val_acc.append(selected_val[best_val_idx])\n",
    "    test_acc.append(selected_test[best_val_idx])\n",
    "\n",
    "    np_val_avg.append(np.max(val_acc))\n",
    "    np_val_std.append(np.std(val_acc))\n",
    "\n",
    "    np_test_avg.append(np.max(test_acc))\n",
    "    np_test_std.append(np.std(test_acc))"
   ]
  },
  {
   "cell_type": "code",
   "execution_count": 18,
   "metadata": {},
   "outputs": [],
   "source": [
    "result_mlp = {\n",
    "    'np_val_avg': np_val_avg,\n",
    "    'np_test_avg': np_test_avg,\n",
    "    'np_val_std': np_val_std,\n",
    "    'np_test_std': np_test_std\n",
    "}"
   ]
  },
  {
   "cell_type": "code",
   "execution_count": 19,
   "metadata": {},
   "outputs": [],
   "source": [
    "np.save('outputs/ablation_study_by_arch_mlp.npy', result_mlp)"
   ]
  },
  {
   "cell_type": "code",
   "execution_count": 6,
   "metadata": {},
   "outputs": [
    {
     "data": {
      "application/vnd.jupyter.widget-view+json": {
       "model_id": "4afa80743c914f32afb2e35ee9b4172d",
       "version_major": 2,
       "version_minor": 0
      },
      "text/plain": [
       "  0%|          | 0/1828 [00:00<?, ?it/s]"
      ]
     },
     "metadata": {},
     "output_type": "display_data"
    }
   ],
   "source": [
    "# CNN\n",
    "N = 172\n",
    "train_data = get_N_samples(N)\n",
    "reg = regressor_cnn(np.concatenate([train_data['X'], train_data['norm_A']], axis=-1), train_data['val_acc'])\n",
    "\n",
    "np_val_avg, np_test_avg = [], []\n",
    "np_val_std, np_test_std = [], []\n",
    "\n",
    "val_acc, test_acc = [], []\n",
    "for k in tqdm(range(MAX_SAMPLES - N)):\n",
    "    K = k + 1\n",
    "\n",
    "    test_models = get_N_samples(N+K)\n",
    "    pred_acc = reg.predict(np.concatenate([test_models['X'], test_models['norm_A']], axis=-1)).ravel()\n",
    "\n",
    "    topk_idx = tf.math.top_k(pred_acc, k=K).indices.numpy()\n",
    "    selected_val = test_models['val_acc'][topk_idx]\n",
    "    selected_test = test_models['test_acc'][topk_idx]\n",
    "\n",
    "    best_val_idx = np.argmax(selected_val)\n",
    "\n",
    "    val_acc.append(selected_val[best_val_idx])\n",
    "    test_acc.append(selected_test[best_val_idx])\n",
    "\n",
    "    np_val_avg.append(np.max(val_acc))\n",
    "    np_val_std.append(np.std(val_acc))\n",
    "\n",
    "    np_test_avg.append(np.max(test_acc))\n",
    "    np_test_std.append(np.std(test_acc))"
   ]
  },
  {
   "cell_type": "code",
   "execution_count": 7,
   "metadata": {},
   "outputs": [],
   "source": [
    "result_cnn = {\n",
    "    'np_val_avg': np_val_avg,\n",
    "    'np_test_avg': np_test_avg,\n",
    "    'np_val_std': np_val_std,\n",
    "    'np_test_std': np_test_std\n",
    "}"
   ]
  },
  {
   "cell_type": "code",
   "execution_count": 8,
   "metadata": {},
   "outputs": [],
   "source": [
    "np.save('outputs/ablation_study_by_arch_cnn.npy', result_cnn)"
   ]
  },
  {
   "cell_type": "code",
   "execution_count": 9,
   "metadata": {},
   "outputs": [
    {
     "data": {
      "application/vnd.jupyter.widget-view+json": {
       "model_id": "f77a24d4a9cb4b17982d3c2c01b5d991",
       "version_major": 2,
       "version_minor": 0
      },
      "text/plain": [
       "  0%|          | 0/1828 [00:00<?, ?it/s]"
      ]
     },
     "metadata": {},
     "output_type": "display_data"
    }
   ],
   "source": [
    "# GCN\n",
    "N = 172\n",
    "train_data = get_N_samples(N)\n",
    "reg = regressor([train_data['X'], train_data['norm_A'], train_data['norm_AT']], train_data['val_acc'])\n",
    "\n",
    "np_val_avg, np_test_avg = [], []\n",
    "np_val_std, np_test_std = [], []\n",
    "\n",
    "val_acc, test_acc = [], []\n",
    "for k in tqdm(range(MAX_SAMPLES - N)):\n",
    "    K = k + 1\n",
    "\n",
    "    test_models = get_N_samples(N+K)\n",
    "    pred_acc = reg.predict([test_models['X'], test_models['norm_A'], test_models['norm_AT']]).ravel()\n",
    "\n",
    "    topk_idx = tf.math.top_k(pred_acc, k=K).indices.numpy()\n",
    "    selected_val = test_models['val_acc'][topk_idx]\n",
    "    selected_test = test_models['test_acc'][topk_idx]\n",
    "\n",
    "    best_val_idx = np.argmax(selected_val)\n",
    "\n",
    "    val_acc.append(selected_val[best_val_idx])\n",
    "    test_acc.append(selected_test[best_val_idx])\n",
    "\n",
    "    np_val_avg.append(np.max(val_acc))\n",
    "    np_val_std.append(np.std(val_acc))\n",
    "\n",
    "    np_test_avg.append(np.max(test_acc))\n",
    "    np_test_std.append(np.std(test_acc))"
   ]
  },
  {
   "cell_type": "code",
   "execution_count": 10,
   "metadata": {},
   "outputs": [],
   "source": [
    "result_gcn = {\n",
    "    'np_val_avg': np_val_avg,\n",
    "    'np_test_avg': np_test_avg,\n",
    "    'np_val_std': np_val_std,\n",
    "    'np_test_std': np_test_std\n",
    "}"
   ]
  },
  {
   "cell_type": "code",
   "execution_count": 11,
   "metadata": {},
   "outputs": [],
   "source": [
    "np.save('outputs/ablation_study_by_arch_gcn.npy', result_gcn)"
   ]
  },
  {
   "cell_type": "code",
   "execution_count": null,
   "metadata": {},
   "outputs": [],
   "source": []
  }
 ],
 "metadata": {
  "kernelspec": {
   "display_name": "Python 3",
   "language": "python",
   "name": "python3"
  },
  "language_info": {
   "codemirror_mode": {
    "name": "ipython",
    "version": 3
   },
   "file_extension": ".py",
   "mimetype": "text/x-python",
   "name": "python",
   "nbconvert_exporter": "python",
   "pygments_lexer": "ipython3",
   "version": "3.9.4"
  }
 },
 "nbformat": 4,
 "nbformat_minor": 4
}
