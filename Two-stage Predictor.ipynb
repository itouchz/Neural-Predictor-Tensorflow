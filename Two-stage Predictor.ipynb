{
 "cells": [
  {
   "cell_type": "code",
   "execution_count": 19,
   "id": "ba9b1919-1d66-4da8-949f-763134219a6a",
   "metadata": {},
   "outputs": [],
   "source": [
    "import os\n",
    "import numpy as np\n",
    "\n",
    "from nasbench import api\n",
    "from random_search import run_random_search, random_spec\n",
    "\n",
    "from neural_predictor import classifier, regressor\n",
    "from input_preprocessing import preprocess_nasbench\n",
    "from search_spaces import load_nasbench_101\n",
    "\n",
    "from scipy.stats import kendalltau as tau\n",
    "from sklearn.metrics import r2_score, mean_squared_error"
   ]
  },
  {
   "cell_type": "code",
   "execution_count": 2,
   "id": "385f3a44-2644-48ee-9e84-0c2d00557afc",
   "metadata": {},
   "outputs": [],
   "source": [
    "os.environ[\"CUDA_DEVICE_ORDER\"] = \"PCI_BUS_ID\"\n",
    "os.environ[\"CUDA_VISIBLE_DEVICES\"] = \"0\"\n",
    "os.environ[\"TF_FORCE_GPU_ALLOW_GROWTH\"] = \"true\""
   ]
  },
  {
   "cell_type": "code",
   "execution_count": 3,
   "id": "aa53590d-da34-492a-a338-27868e71738c",
   "metadata": {},
   "outputs": [
    {
     "name": "stdout",
     "output_type": "stream",
     "text": [
      "Loading dataset from file... This may take a few minutes...\n",
      "WARNING:tensorflow:From /home/patara/Courses/CS470-Neural-Predictor/nasbench/api.py:146: tf_record_iterator (from tensorflow.python.lib.io.tf_record) is deprecated and will be removed in a future version.\n",
      "Instructions for updating:\n",
      "Use eager execution and: \n",
      "`tf.data.TFRecordDataset(path)`\n",
      "Loaded dataset in 57 seconds\n"
     ]
    }
   ],
   "source": [
    "nasbench = load_nasbench_101()"
   ]
  },
  {
   "cell_type": "code",
   "execution_count": 4,
   "id": "58d7ae0b-171d-4385-aa75-1b5407869211",
   "metadata": {},
   "outputs": [],
   "source": [
    "N = 172\n",
    "def get_N_samples(N):\n",
    "    models = []\n",
    "\n",
    "    for _ in range(N):\n",
    "        while True:\n",
    "            model = random_spec(nasbench)\n",
    "            if model not in models:\n",
    "                models.append(nasbench.query(model))\n",
    "                break\n",
    "                \n",
    "    return preprocess_nasbench(models)"
   ]
  },
  {
   "cell_type": "code",
   "execution_count": 5,
   "id": "a9afdb4c-a44a-4f66-8505-1bead3e9880b",
   "metadata": {},
   "outputs": [],
   "source": [
    "train_clf_data = get_N_samples(N)\n",
    "clf = classifier([train_clf_data['X'], train_clf_data['norm_A'], train_clf_data['norm_AT']], train_clf_data['labels'])"
   ]
  },
  {
   "cell_type": "code",
   "execution_count": 6,
   "id": "f07f289d-415f-4ed2-8825-b608be3c0de1",
   "metadata": {},
   "outputs": [],
   "source": [
    "np.save('outputs/train_clf_data_val_acc.npy', train_clf_data['val_acc'])"
   ]
  },
  {
   "cell_type": "code",
   "execution_count": 7,
   "id": "f1232d28-0dff-4995-8fe3-7c63cffc1705",
   "metadata": {},
   "outputs": [],
   "source": [
    "test_clf_data = get_N_samples(200000)"
   ]
  },
  {
   "cell_type": "code",
   "execution_count": 8,
   "id": "d86a9e33-a090-4318-82bb-6cce24be5d0e",
   "metadata": {},
   "outputs": [
    {
     "name": "stdout",
     "output_type": "stream",
     "text": [
      "6250/6250 [==============================] - 21s 3ms/step - loss: 0.2715 - accuracy: 0.9624\n"
     ]
    },
    {
     "data": {
      "text/plain": [
       "[0.2715485692024231, 0.9624300003051758]"
      ]
     },
     "execution_count": 8,
     "metadata": {},
     "output_type": "execute_result"
    }
   ],
   "source": [
    "clf.evaluate([test_clf_data['X'], test_clf_data['norm_A'], test_clf_data['norm_AT']], test_clf_data['labels'])"
   ]
  },
  {
   "cell_type": "code",
   "execution_count": 9,
   "id": "bc6e73e8-a2f1-4c5a-b775-987c176ea9b9",
   "metadata": {},
   "outputs": [],
   "source": [
    "y_pred = clf.predict([test_clf_data['X'], test_clf_data['norm_A'], test_clf_data['norm_AT']])"
   ]
  },
  {
   "cell_type": "code",
   "execution_count": 10,
   "id": "2944e24d-1410-4a38-abe4-f8e66e0be422",
   "metadata": {},
   "outputs": [],
   "source": [
    "y_pred = np.where(y_pred > 0.5, 1, 0).ravel()"
   ]
  },
  {
   "cell_type": "code",
   "execution_count": 11,
   "id": "28b0c664-f956-4dbc-88ef-33393400c8ee",
   "metadata": {},
   "outputs": [],
   "source": [
    "accurate_idx = np.where(y_pred == 1)[0]\n",
    "inaccurate_idx = np.where(y_pred == 0)[0]"
   ]
  },
  {
   "cell_type": "code",
   "execution_count": 12,
   "id": "efb9463c-99e5-4f25-944d-07c874f5ffa1",
   "metadata": {},
   "outputs": [],
   "source": [
    "acc_set = test_clf_data['val_acc'][accurate_idx]\n",
    "inacc_set = test_clf_data['val_acc'][inaccurate_idx]"
   ]
  },
  {
   "cell_type": "code",
   "execution_count": 13,
   "id": "87007412-4179-472f-86e9-57225071328c",
   "metadata": {},
   "outputs": [],
   "source": [
    "np.save('outputs/clf_acc_set.npy', acc_set)\n",
    "np.save('outputs/clf_inacc_set.npy', inacc_set)"
   ]
  },
  {
   "cell_type": "code",
   "execution_count": 14,
   "id": "6ce73025-0cc3-4ba5-a787-86307e85e465",
   "metadata": {},
   "outputs": [],
   "source": [
    "models = get_N_samples(119+100000)"
   ]
  },
  {
   "cell_type": "code",
   "execution_count": 20,
   "id": "b7adf781-e01b-4696-8233-21a70434bce6",
   "metadata": {},
   "outputs": [],
   "source": [
    "X_train, A_train, AT_train, y_train = models['X'][:79], models['norm_A'][:79], models['norm_AT'][:79], models['val_acc'][:79]\n",
    "\n",
    "f_results = clf.predict([X_train, A_train, AT_train])\n",
    "f_idx = np.where(f_results > 0.5)[0]\n",
    "\n",
    "reg = regressor([X_train[f_idx], A_train[f_idx], AT_train[f_idx]], y_train[f_idx])"
   ]
  },
  {
   "cell_type": "code",
   "execution_count": 21,
   "id": "e2237cef-3b95-4596-9673-3ab29873645f",
   "metadata": {},
   "outputs": [
    {
     "name": "stdout",
     "output_type": "stream",
     "text": [
      "0.2587941525114619 0.6571079518894848 0.6900641242487546 (38,)\n"
     ]
    }
   ],
   "source": [
    "y_pred = reg.predict([X_train[f_idx], A_train[f_idx], AT_train[f_idx]]).ravel()\n",
    "y_true = y_train[f_idx]\n",
    "\n",
    "print(mean_squared_error(y_true, y_pred), tau(y_true, y_pred).correlation, r2_score(y_true, y_pred), y_pred.shape)"
   ]
  },
  {
   "cell_type": "code",
   "execution_count": 22,
   "id": "db5ee076-27ca-4c0f-ae96-3ba9321be49f",
   "metadata": {},
   "outputs": [],
   "source": [
    "np.save('outputs/nasbench_two_y_true_train.npy', y_true)\n",
    "np.save('outputs/nasbench_two_y_pred_train.npy', y_pred)\n",
    "np.save('outputs/nasbench_two_mse_train.npy', mean_squared_error(y_true, y_pred))\n",
    "np.save('outputs/nasbench_two_tau_train.npy', tau(y_true, y_pred).correlation)\n",
    "np.save('outputs/nasbench_two_r2_train.npy', r2_score(y_true, y_pred))"
   ]
  },
  {
   "cell_type": "code",
   "execution_count": 23,
   "id": "f50ec23e-7fb2-47c7-a84f-5192487b5412",
   "metadata": {},
   "outputs": [
    {
     "name": "stdout",
     "output_type": "stream",
     "text": [
      "0.7284672407902804 0.5032549801091942 0.1435993866266998 (22,)\n"
     ]
    }
   ],
   "source": [
    "X_val, A_val, AT_val, y_val = models['X'][79:119], models['norm_A'][79:119], models['norm_AT'][79:119], models['val_acc'][79:119]\n",
    "\n",
    "f_results = clf.predict([X_val, A_val, AT_val])\n",
    "f_idx = np.where(f_results > 0.5)[0]\n",
    "\n",
    "y_pred = reg.predict([X_val[f_idx], A_val[f_idx], AT_val[f_idx]]).ravel()\n",
    "y_true = y_val[f_idx]\n",
    "print(mean_squared_error(y_true, y_pred), tau(y_true, y_pred).correlation, r2_score(y_true, y_pred), y_pred.shape)"
   ]
  },
  {
   "cell_type": "code",
   "execution_count": 24,
   "id": "bd607a59-d1ac-4287-b5a7-3479098b05fd",
   "metadata": {},
   "outputs": [],
   "source": [
    "np.save('outputs/nasbench_two_y_true_val.npy', y_true)\n",
    "np.save('outputs/nasbench_two_y_pred_val.npy', y_pred)\n",
    "np.save('outputs/nasbench_two_mse_val.npy', mean_squared_error(y_true, y_pred))\n",
    "np.save('outputs/nasbench_two_tau_val.npy', tau(y_true, y_pred).correlation)\n",
    "np.save('outputs/nasbench_two_r2_val.npy', r2_score(y_true, y_pred))"
   ]
  },
  {
   "cell_type": "code",
   "execution_count": 25,
   "id": "ea73fceb-0a6d-4d7c-9fc7-4bd10f1420e4",
   "metadata": {},
   "outputs": [],
   "source": [
    "X_test, A_test, AT_test, y_test = models['X'][119:], models['norm_A'][119:], models['norm_AT'][119:], models['val_acc'][119:]\n",
    "\n",
    "f_results = clf.predict([X_test, A_test, AT_test])\n",
    "f_idx = np.where(f_results > 0.5)[0]\n",
    "\n",
    "y_pred = reg.predict([X_test[f_idx], A_test[f_idx], AT_test[f_idx]]).ravel()\n",
    "y_true = y_test[f_idx]"
   ]
  },
  {
   "cell_type": "code",
   "execution_count": 26,
   "id": "7a91be59-f6b5-4e09-8009-c32a20dbaf20",
   "metadata": {},
   "outputs": [],
   "source": [
    "min_idx = np.argmin(y_pred.ravel())\n",
    "max_idx = np.argmax(y_pred.ravel())"
   ]
  },
  {
   "cell_type": "code",
   "execution_count": 27,
   "id": "f77bc444-b737-4ee1-a48e-214f0427ecb1",
   "metadata": {},
   "outputs": [],
   "source": [
    "y_idx = np.where(y_pred > y_pred[min_idx])[0]"
   ]
  },
  {
   "cell_type": "code",
   "execution_count": 28,
   "id": "142c0dd1-c4f1-48f0-a397-fc1469c78e4e",
   "metadata": {},
   "outputs": [
    {
     "name": "stdout",
     "output_type": "stream",
     "text": [
      "1.6367411297464116 0.7333333333333333 0.36024424501046204\n"
     ]
    }
   ],
   "source": [
    "y_pred_10 = np.hstack([y_pred[min_idx], y_pred[list(range(0, len(y_idx), len(y_idx) // 8))[-8:]], y_pred[max_idx]]).ravel()\n",
    "y_true_10 = np.hstack([y_true[min_idx], y_true[list(range(0, len(y_idx), len(y_idx) // 8))[-8:]], y_true[max_idx]]).ravel()\n",
    "print(mean_squared_error(y_true_10, y_pred_10), tau(y_true_10, y_pred_10).correlation, r2_score(y_true_10, y_pred_10))"
   ]
  },
  {
   "cell_type": "code",
   "execution_count": 29,
   "id": "02c47e39-c428-4dc6-bd5d-e645a0520e37",
   "metadata": {},
   "outputs": [],
   "source": [
    "np.save('outputs/nasbench_two_y_true_test.npy', y_true)\n",
    "np.save('outputs/nasbench_two_y_pred_test.npy', y_pred)\n",
    "np.save('outputs/nasbench_two_y_true_test_10.npy', y_true_10)\n",
    "np.save('outputs/nasbench_two_y_pred_test_10.npy', y_pred_10)\n",
    "np.save('outputs/nasbench_two_mse_test.npy', mean_squared_error(y_true, y_pred))\n",
    "np.save('outputs/nasbench_two_tau_test.npy', tau(y_true, y_pred).correlation)\n",
    "np.save('outputs/nasbench_two_r2_test.npy', r2_score(y_true, y_pred))"
   ]
  },
  {
   "cell_type": "code",
   "execution_count": null,
   "id": "88244992-0f71-40f8-9d6c-bb2f756dab17",
   "metadata": {},
   "outputs": [],
   "source": []
  }
 ],
 "metadata": {
  "kernelspec": {
   "display_name": "Python 3",
   "language": "python",
   "name": "python3"
  },
  "language_info": {
   "codemirror_mode": {
    "name": "ipython",
    "version": 3
   },
   "file_extension": ".py",
   "mimetype": "text/x-python",
   "name": "python",
   "nbconvert_exporter": "python",
   "pygments_lexer": "ipython3",
   "version": "3.7.10"
  }
 },
 "nbformat": 4,
 "nbformat_minor": 5
}
