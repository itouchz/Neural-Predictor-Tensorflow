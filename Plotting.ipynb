{
 "cells": [
  {
   "cell_type": "code",
   "execution_count": 2,
   "id": "c093589c-7687-4ac0-865d-47d64d066f58",
   "metadata": {},
   "outputs": [],
   "source": [
    "import os\n",
    "import random\n",
    "import numpy as np\n",
    "import pandas as pd\n",
    "import tensorflow as tf\n",
    "import seaborn as sns\n",
    "import matplotlib.pyplot as plt\n",
    "\n",
    "from tqdm.notebook import tqdm"
   ]
  },
  {
   "cell_type": "code",
   "execution_count": 3,
   "id": "07b74355-d0b7-466b-8254-bfe5bf8892a2",
   "metadata": {},
   "outputs": [],
   "source": [
    "sns.set_theme(style=\"whitegrid\", font_scale=3.)"
   ]
  },
  {
   "cell_type": "markdown",
   "id": "3e3afedf-f54b-44d0-afaf-493cff40a76c",
   "metadata": {},
   "source": [
    "### Val vs Test accuracy plot (Fig. 3)"
   ]
  },
  {
   "cell_type": "code",
   "execution_count": 4,
   "id": "bc0dbc25-73a7-45b3-b958-292ef17b503b",
   "metadata": {},
   "outputs": [],
   "source": [
    "# Load saved data\n",
    "percent_acc = pd.read_csv('outputs/oracle_accuracy.csv')"
   ]
  },
  {
   "cell_type": "code",
   "execution_count": 5,
   "id": "7f19d5a4-c8b6-4e13-a2d7-3dd2cfaced26",
   "metadata": {},
   "outputs": [
    {
     "name": "stdout",
     "output_type": "stream",
     "text": [
      "saved\n"
     ]
    }
   ],
   "source": [
    "f, ax = plt.subplots(figsize=(9, 9))\n",
    "g = sns.scatterplot(data=percent_acc, x='validation', y='test', color='#0000FF', ax=ax, marker='+')\n",
    "g.plot([0, 1], [0, 1], transform=ax.transAxes, color='lightgray')\n",
    "g.set(xlabel='Validation accuracy %', ylabel='Test accuracy %', xlim=[0, 100], ylim=[0, 100])\n",
    "f.savefig('figures/fig3a.pdf', format='pdf', bbox_inches='tight')\n",
    "plt.close(f)\n",
    "print('saved')"
   ]
  },
  {
   "cell_type": "code",
   "execution_count": 6,
   "id": "47b9ec12-eef8-4a67-a2ee-4ccb7eb67799",
   "metadata": {},
   "outputs": [
    {
     "name": "stdout",
     "output_type": "stream",
     "text": [
      "saved\n"
     ]
    }
   ],
   "source": [
    "high_acc = percent_acc[percent_acc['validation'] >= 93.5].reset_index(drop=True)\n",
    "\n",
    "f, ax = plt.subplots(figsize=(9, 9))\n",
    "g = sns.scatterplot(data=high_acc, x='validation', y='test', color='#0000FF', ax=ax)\n",
    "g.plot([0, 1], [0, 1], transform=ax.transAxes, color='lightgray')\n",
    "g.set(xlabel='Validation accuracy %', ylabel='Test accuracy %', xlim=[93.5, 95.5], ylim=[93.5, 95.5])\n",
    "f.savefig('figures/fig3b.pdf', format='pdf', bbox_inches='tight')\n",
    "plt.close(f)\n",
    "print('saved')"
   ]
  },
  {
   "cell_type": "markdown",
   "id": "0011da31-9057-410b-a541-f0814b7fc3fa",
   "metadata": {},
   "source": [
    "### Performance Comparison Plot (Fig. 4)"
   ]
  },
  {
   "cell_type": "code",
   "execution_count": 7,
   "id": "368ed677-8e1b-4269-a0d3-71413bb859b2",
   "metadata": {},
   "outputs": [],
   "source": [
    "sns.set_theme(style=\"darkgrid\", font_scale=1.25)"
   ]
  },
  {
   "cell_type": "code",
   "execution_count": 8,
   "id": "0abb8ca8-fb91-4f7d-af0e-ad4a5177afa0",
   "metadata": {},
   "outputs": [],
   "source": [
    "# number of samples vs validation accuracy\n",
    "random_val_avg_by_samples = np.load('outputs/random_val_avg_by_samples.npy')\n",
    "random_val_std_by_samples = np.load('outputs/random_val_std_by_samples.npy')\n",
    "\n",
    "np_val_avg_by_samples = np.load('outputs/np_val_avg_by_samples.npy')\n",
    "np_val_std_by_samples = np.load('outputs/np_val_std_by_samples.npy')\n",
    "\n",
    "np2_val_avg_by_samples = np.load('outputs/np2_val_avg_by_samples.npy')\n",
    "np2_val_std_by_samples = np.load('outputs/np2_val_std_by_samples.npy')\n",
    "\n",
    "oracle_val_acc = np.load('outputs/oracle_val_acc.npy')\n",
    "oracle_val_std = np.load('outputs/oracle_val_std.npy')"
   ]
  },
  {
   "cell_type": "code",
   "execution_count": 9,
   "id": "630c7931-1c62-487e-949d-601930ccf36c",
   "metadata": {},
   "outputs": [],
   "source": [
    "np_index = [i + 173 for i in range(len(np_val_avg_by_samples))]"
   ]
  },
  {
   "cell_type": "code",
   "execution_count": 10,
   "id": "73e8aa19-d274-4d8d-93f5-f518214c4327",
   "metadata": {},
   "outputs": [],
   "source": [
    "f, ax = plt.subplots(figsize=(9, 9))\n",
    "\n",
    "# axes settings\n",
    "ax.set(xlim = [0, 500], ylim = [86, 96], xlabel='The number of samples', ylabel='Validation accuracy %',)\n",
    "\n",
    "# neural predictor plot\n",
    "ax.vlines(x=172, ymin=0, ymax=100, colors='green', linestyle='dotted')\n",
    "\n",
    "plt.plot(np_index, np2_val_avg_by_samples, color='green', label='neural predictor w classifier')\n",
    "plt.fill_between(range(173, 501), y1=np2_val_avg_by_samples-np2_val_std_by_samples, y2=np2_val_avg_by_samples+np2_val_std_by_samples, facecolor='green', alpha=0.2)\n",
    "\n",
    "plt.plot(np_index, np_val_avg_by_samples, color='green', label='neural predictor w/o classifier', linestyle='dashed')\n",
    "plt.fill_between(range(173, 501), y1=np_val_avg_by_samples-np_val_std_by_samples, y2=np_val_avg_by_samples+np_val_std_by_samples, facecolor='green', alpha=0.2)\n",
    "\n",
    "\n",
    "# random search plot\n",
    "plt.plot(random_val_avg_by_samples, color='red', label='random search', linestyle='dashed')\n",
    "plt.fill_between(range(1, 501), y1=random_val_avg_by_samples-random_val_std_by_samples, y2=random_val_avg_by_samples+random_val_std_by_samples, facecolor='red', alpha=0.2)\n",
    "\n",
    "# oracle line\n",
    "ax.hlines(y=oracle_val_acc, xmin=0, xmax=500, color='black', label='oracle')\n",
    "ax.fill_between(range(1, 501), y1=oracle_val_acc-oracle_val_std, y2=oracle_val_acc+oracle_val_std, facecolor='black', alpha=0.2)\n",
    "\n",
    "# show plot with legend\n",
    "plt.legend(loc='lower right')\n",
    "plt.close()\n",
    "\n",
    "f.savefig('figures/fig4a.pdf', format='pdf', bbox_inches='tight')"
   ]
  },
  {
   "cell_type": "code",
   "execution_count": 11,
   "id": "99927960-87e1-496d-bd63-f95855501aaa",
   "metadata": {},
   "outputs": [],
   "source": [
    "# number of samples vs test accuracy\n",
    "random_test_avg_by_samples = np.load('outputs/random_test_avg_by_samples.npy')\n",
    "random_test_std_by_samples = np.load('outputs/random_test_std_by_samples.npy')\n",
    "\n",
    "np_test_avg_by_samples = np.load('outputs/np_test_avg_by_samples.npy')\n",
    "np_test_std_by_samples = np.load('outputs/np_test_std_by_samples.npy')\n",
    "\n",
    "np2_test_avg_by_samples = np.load('outputs/np2_test_avg_by_samples.npy')\n",
    "np2_test_std_by_samples = np.load('outputs/np2_test_std_by_samples.npy')\n",
    "\n",
    "oracle_test_acc = np.load('outputs/oracle_test_acc.npy')\n",
    "oracle_test_std = np.load('outputs/oracle_test_std.npy')"
   ]
  },
  {
   "cell_type": "code",
   "execution_count": 12,
   "id": "4c6f2c6a-9984-455d-b47d-1012f6ba1fcc",
   "metadata": {},
   "outputs": [],
   "source": [
    "np_index = [i + 173 for i in range(len(np_test_avg_by_samples))]"
   ]
  },
  {
   "cell_type": "code",
   "execution_count": 13,
   "id": "8257582b-9616-4744-aa7b-26c0bcd6d5e7",
   "metadata": {},
   "outputs": [],
   "source": [
    "f, ax = plt.subplots(figsize=(9, 9))\n",
    "\n",
    "# axes settings\n",
    "ax.set(xlim = [0, 500], ylim = [85, 95], xlabel='The number of samples', ylabel='Test accuracy %',)\n",
    "\n",
    "# neural predictor plot\n",
    "ax.vlines(x=172, ymin=0, ymax=100, colors='green', linestyle='dotted')\n",
    "\n",
    "plt.plot(np_index, np2_test_avg_by_samples, color='green', label='neural predictor w classifier')\n",
    "plt.fill_between(range(173, 501), y1=np2_test_avg_by_samples-np2_test_std_by_samples, y2=np2_test_avg_by_samples+np2_test_std_by_samples, facecolor='green', alpha=0.2)\n",
    "\n",
    "plt.plot(np_index, np_test_avg_by_samples, color='green', label='neural predictor w/o classifier', linestyle='dashed')\n",
    "plt.fill_between(range(173, 501), y1=np_test_avg_by_samples-np_test_std_by_samples, y2=np_test_avg_by_samples+np_test_std_by_samples, facecolor='green', alpha=0.2)\n",
    "\n",
    "\n",
    "# random search plot\n",
    "plt.plot(random_test_avg_by_samples, color='red', label='random search', linestyle='dashed')\n",
    "plt.fill_between(range(1, 501), y1=random_test_avg_by_samples-random_test_std_by_samples, y2=random_test_avg_by_samples+random_test_std_by_samples, facecolor='red', alpha=0.2)\n",
    "\n",
    "# oracle line\n",
    "ax.hlines(y=oracle_test_acc, xmin=0, xmax=500, color='black', label='oracle')\n",
    "ax.fill_between(range(1, 501), y1=oracle_test_acc-oracle_test_std, y2=oracle_test_acc+oracle_test_std, facecolor='black', alpha=0.2)\n",
    "\n",
    "# show plot with legend\n",
    "plt.legend(loc='lower right')\n",
    "plt.close()\n",
    "\n",
    "f.savefig('figures/fig4b.pdf', format='pdf', bbox_inches='tight')"
   ]
  },
  {
   "cell_type": "code",
   "execution_count": 14,
   "id": "ef08bdc6-e95a-4272-8fd4-beb4c1a1301c",
   "metadata": {},
   "outputs": [],
   "source": [
    "# number of samples vs test accuracy\n",
    "random_test_avg = np.load('outputs/random_test_avg_by_time.npy')\n",
    "random_test_std = np.load('outputs/random_test_std_by_time.npy')\n",
    "\n",
    "np_test_avg = np.load('outputs/np_test_avg_by_time.npy')\n",
    "np_test_std = np.load('outputs/np_test_std_by_time.npy')\n",
    "\n",
    "np2_test_avg = np.load('outputs/np2_test_avg_by_time.npy')\n",
    "np2_test_std = np.load('outputs/np2_test_std_by_time.npy')\n",
    "\n",
    "oracle_test_acc = np.load('outputs/oracle_test_acc.npy')\n",
    "oracle_test_std = np.load('outputs/oracle_test_std.npy')"
   ]
  },
  {
   "cell_type": "code",
   "execution_count": 15,
   "id": "b6f98249-5db0-4f92-a8db-a20e218eef83",
   "metadata": {},
   "outputs": [],
   "source": [
    "np_index = [i + 134 for i in range(len(np_test_avg))]\n",
    "np2_index = [i + 130 for i in range(len(np2_test_avg))]"
   ]
  },
  {
   "cell_type": "code",
   "execution_count": 16,
   "id": "10f538d7-0bf8-436e-9251-cdcbd0d4becd",
   "metadata": {},
   "outputs": [],
   "source": [
    "f, ax = plt.subplots(figsize=(9, 9))\n",
    "\n",
    "# axes settings\n",
    "ax.set(xlim = [0, 500], ylim = [90., 95.], xlabel='Total training time x 1600 (seconds)', ylabel='Test accuracy %')\n",
    "\n",
    "# neural predictor plot\n",
    "ax.vlines(x=131, ymin=0, ymax=100, colors='green', linestyle='dotted')\n",
    "\n",
    "plt.plot(np2_index, np2_test_avg, color='green', label='neural predictor w classifier')\n",
    "plt.fill_between(range(131, 501), y1=np2_test_avg-np2_test_std, y2=np2_test_avg+np2_test_std, facecolor='green', alpha=0.2)\n",
    "\n",
    "plt.plot(np_index, np_test_avg, color='green', label='neural predictor w/o classifier', linestyle='dashed')\n",
    "plt.fill_between(range(134, 501), y1=np_test_avg-np_test_std, y2=np_test_avg+np_test_std, facecolor='green', alpha=0.2)\n",
    "\n",
    "\n",
    "# random search plot\n",
    "plt.plot(random_test_avg, color='red', label='random search', linestyle='dashed')\n",
    "plt.fill_between(range(1, 501), y1=random_test_avg-random_test_std, y2=random_test_avg+random_test_std, facecolor='red', alpha=0.2)\n",
    "\n",
    "# oracle line\n",
    "ax.hlines(y=oracle_test_acc, xmin=0, xmax=500, color='black', label='oracle')\n",
    "ax.fill_between(range(1, 501), y1=oracle_test_acc-oracle_test_std, y2=oracle_test_acc+oracle_test_std, facecolor='black', alpha=0.2)\n",
    "\n",
    "# show plot with legend\n",
    "plt.legend(loc='lower right')\n",
    "plt.close()\n",
    "\n",
    "f.savefig('figures/fig4c.pdf', format='pdf', bbox_inches='tight')"
   ]
  },
  {
   "cell_type": "markdown",
   "id": "49e8f4c1-c44e-45d8-9ee4-a9f3b3cf9d94",
   "metadata": {},
   "source": [
    "### Classifier Filtering (Fig. 6)"
   ]
  },
  {
   "cell_type": "code",
   "execution_count": 17,
   "id": "23c5613f-a33c-4215-a30d-322a448456ba",
   "metadata": {},
   "outputs": [],
   "source": [
    "# load saved results\n",
    "train_clf_val_acc = np.load('outputs/train_clf_data_val_acc.npy')"
   ]
  },
  {
   "cell_type": "code",
   "execution_count": 18,
   "id": "d62befc3-5a72-4455-953a-1d3ccf47c82f",
   "metadata": {},
   "outputs": [],
   "source": [
    "f, ax = plt.subplots(figsize=(9, 9))\n",
    "\n",
    "# axes settings\n",
    "ax.set(xlim = [0, 100], ylim=[0, 60], xlabel='Real validation accuracy %', ylabel='Counts')\n",
    "\n",
    "plt.hist(train_clf_val_acc, color='red', bins=10)\n",
    "plt.close()\n",
    "\n",
    "f.savefig('figures/fig6a.pdf', format='pdf', bbox_inches='tight')"
   ]
  },
  {
   "cell_type": "code",
   "execution_count": 21,
   "id": "254ae16b-0710-4ac5-a670-a1517665d651",
   "metadata": {},
   "outputs": [],
   "source": [
    "acc_set = np.load('outputs/clf_acc_set.npy')\n",
    "inacc_set = np.load('outputs/clf_inacc_set.npy')"
   ]
  },
  {
   "cell_type": "code",
   "execution_count": 22,
   "id": "323567c9-bbe6-4d15-a58d-b64bfa82a3d8",
   "metadata": {},
   "outputs": [],
   "source": [
    "f, ax = plt.subplots(figsize=(9, 9))\n",
    "\n",
    "# axes settings\n",
    "ax.set(xlim = [86, 95], ylim=[0, 14000], xlabel='Real validation accuracy %', ylabel='Counts')\n",
    "\n",
    "plt.hist(acc_set, color='green', histtype='step', bins=500, label='accurate', linewidth=2)\n",
    "plt.hist(inacc_set, color='red', histtype='step', bins=500, label='inaccurate', linewidth=2)\n",
    "\n",
    "# show plot with legend\n",
    "plt.legend(loc='upper left')\n",
    "plt.close()\n",
    "\n",
    "f.savefig('figures/fig6b.pdf', format='pdf', bbox_inches='tight')"
   ]
  },
  {
   "cell_type": "markdown",
   "id": "ec2d1e4c-7ea9-4d5f-ac6e-cd3bd8375f6d",
   "metadata": {},
   "source": [
    "### Trade-off N vs K (Fig. 7)"
   ]
  },
  {
   "cell_type": "code",
   "execution_count": 23,
   "id": "172d0934-613d-465a-b277-0a007e3942bc",
   "metadata": {},
   "outputs": [],
   "source": [
    "oracle_val = np.load('outputs/oracle_val_acc.npy')\n",
    "oracle_test = np.load('outputs/oracle_test_acc.npy')"
   ]
  },
  {
   "cell_type": "code",
   "execution_count": 24,
   "id": "1bf1e86f-0522-4d69-914f-602439594439",
   "metadata": {},
   "outputs": [],
   "source": [
    "random_val = np.load('outputs/random_val_avg_2000.npy')\n",
    "random_test = np.load('outputs/random_test_avg_2000.npy')"
   ]
  },
  {
   "cell_type": "code",
   "execution_count": 25,
   "id": "be5edbfd-1056-4cb2-ada2-408307f9cbfc",
   "metadata": {},
   "outputs": [],
   "source": [
    "np_samples = np.load('outputs/ablation_study_by_samples.npy', allow_pickle=True).ravel()[0]\n",
    "np_time = np.load('outputs/ablation_study_by_time.npy', allow_pickle=True).ravel()[0]"
   ]
  },
  {
   "cell_type": "code",
   "execution_count": 27,
   "id": "2baa11ba-c711-4726-add6-c814f9cdb167",
   "metadata": {},
   "outputs": [],
   "source": [
    "f, ax = plt.subplots(figsize=(9, 9))\n",
    "\n",
    "# axes settings\n",
    "ax.set(xlim = [0, 2000], ylim = [93, 95.4], xlabel='The number of samples', ylabel='Validation accuracy %',)\n",
    "\n",
    "# neural predictor plot\n",
    "ax.vlines(x=860, ymin=0, ymax=100, colors='pink', linestyle='dotted')\n",
    "plt.plot([i + 860 for i in range(len(np_samples[860]['np_val_avg']))], np_samples[860]['np_val_avg'], color='pink', label='neural predictor 860', linewidth=3)\n",
    "\n",
    "ax.vlines(x=344, ymin=0, ymax=100, colors='brown', linestyle='dotted')\n",
    "plt.plot([i + 344 for i in range(len(np_samples[344]['np_val_avg']))], np_samples[344]['np_val_avg'], color='brown', label='neural predictor 344', linewidth=3)\n",
    "\n",
    "ax.vlines(x=172, ymin=0, ymax=100, colors='green', linestyle='dotted')\n",
    "plt.plot([i + 172 for i in range(len(np_samples[172]['np_val_avg']))], np_samples[172]['np_val_avg'], color='green', label='neural predictor 172', linewidth=3)\n",
    "\n",
    "ax.vlines(x=129, ymin=0, ymax=100, colors='orange', linestyle='dotted')\n",
    "plt.plot([i + 129 for i in range(len(np_samples[129]['np_val_avg']))], np_samples[129]['np_val_avg'], color='orange', label='neural predictor 129', linewidth=3)\n",
    "\n",
    "ax.vlines(x=86, ymin=0, ymax=100, colors='purple', linestyle='dotted')\n",
    "plt.plot([i + 86 for i in range(len(np_samples[86]['np_val_avg']))], np_samples[86]['np_val_avg'], color='purple', label='neural predictor 86', linewidth=3)\n",
    "\n",
    "ax.vlines(x=43, ymin=0, ymax=100, colors='yellow', linestyle='dotted')\n",
    "plt.plot([i + 43 for i in range(len(np_samples[43]['np_val_avg']))], np_samples[43]['np_val_avg'], color='yellow', label='neural predictor 43', linewidth=3)\n",
    "\n",
    "\n",
    "# random search plot\n",
    "plt.plot(random_val, color='red', label='random search', linestyle='dashed', linewidth=3)\n",
    "\n",
    "# oracle line\n",
    "ax.hlines(y=oracle_val, xmin=0, xmax=2000, color='black', label='oracle', linewidth=3)\n",
    "\n",
    "# show plot with legend\n",
    "plt.legend(loc='lower right')\n",
    "plt.close()\n",
    "\n",
    "f.savefig('figures/fig7a.pdf', format='pdf', bbox_inches='tight')"
   ]
  },
  {
   "cell_type": "code",
   "execution_count": 29,
   "id": "70c058fa-5eaa-4589-964b-1a6e15b81f37",
   "metadata": {},
   "outputs": [],
   "source": [
    "f, ax = plt.subplots(figsize=(9, 9))\n",
    "\n",
    "# axes settings\n",
    "ax.set(xlim = [0, 2000], ylim = [92.75, 94.75], xlabel='The number of samples', ylabel='Test accuracy %',)\n",
    "\n",
    "# neural predictor plot\n",
    "ax.vlines(x=860, ymin=0, ymax=100, colors='pink', linestyle='dotted')\n",
    "plt.plot([i + 860 for i in range(len(np_samples[860]['np_test_avg']))], np_samples[860]['np_test_avg'], color='pink', label='neural predictor 860', linewidth=3)\n",
    "\n",
    "ax.vlines(x=344, ymin=0, ymax=100, colors='brown', linestyle='dotted')\n",
    "plt.plot([i + 344 for i in range(len(np_samples[344]['np_test_avg']))], np_samples[344]['np_test_avg'], color='brown', label='neural predictor 344', linewidth=3)\n",
    "\n",
    "ax.vlines(x=172, ymin=0, ymax=100, colors='green', linestyle='dotted')\n",
    "plt.plot([i + 172 for i in range(len(np_samples[172]['np_test_avg']))], np_samples[172]['np_test_avg'], color='green', label='neural predictor 172', linewidth=3)\n",
    "\n",
    "ax.vlines(x=129, ymin=0, ymax=100, colors='orange', linestyle='dotted')\n",
    "plt.plot([i + 129 for i in range(len(np_samples[129]['np_test_avg']))], np_samples[129]['np_test_avg'], color='orange', label='neural predictor 129', linewidth=3)\n",
    "\n",
    "ax.vlines(x=86, ymin=0, ymax=100, colors='purple', linestyle='dotted')\n",
    "plt.plot([i + 86 for i in range(len(np_samples[86]['np_test_avg']))], np_samples[86]['np_test_avg'], color='purple', label='neural predictor 86', linewidth=3)\n",
    "\n",
    "ax.vlines(x=43, ymin=0, ymax=100, colors='yellow', linestyle='dotted')\n",
    "plt.plot([i + 43 for i in range(len(np_samples[43]['np_test_avg']))], np_samples[43]['np_test_avg'], color='yellow', label='neural predictor 43', linewidth=3)\n",
    "\n",
    "\n",
    "# random search plot\n",
    "plt.plot(random_test, color='red', label='random search', linestyle='dashed', linewidth=3)\n",
    "\n",
    "# oracle line\n",
    "ax.hlines(y=oracle_test, xmin=0, xmax=2000, color='black', label='oracle', linewidth=3)\n",
    "\n",
    "# show plot with legend\n",
    "plt.legend(loc='lower right')\n",
    "plt.close()\n",
    "\n",
    "f.savefig('figures/fig7b.pdf', format='pdf', bbox_inches='tight')"
   ]
  },
  {
   "cell_type": "code",
   "execution_count": 30,
   "id": "e1037b42-2542-4e7b-91fe-37db1493a696",
   "metadata": {},
   "outputs": [],
   "source": [
    "f, ax = plt.subplots(figsize=(9, 9))\n",
    "\n",
    "# axes settings\n",
    "ax.set(xlim = [0, 500], ylim = [93, 94.75], xlabel='Total training time x 1600 (seconds)', ylabel='Test accuracy %')\n",
    "\n",
    "# neural predictor plot\n",
    "# ax.vlines(x=860, ymin=0, ymax=100, colors='pink', linestyle='dotted')\n",
    "# plt.plot([i + 860 for i in range(len(np_samples[860]['np_test_avg']))], np_samples[860]['np_test_avg'], color='pink', label='neural predictor 860', linewidth=3)\n",
    "\n",
    "ax.vlines(x=344, ymin=0, ymax=100, colors='brown', linestyle='dotted')\n",
    "plt.plot([i + 344 for i in range(len(np_time[344]['np_test_avg']))], np_time[344]['np_test_avg'], color='brown', label='neural predictor 344', linewidth=3)\n",
    "\n",
    "ax.vlines(x=172, ymin=0, ymax=100, colors='green', linestyle='dotted')\n",
    "plt.plot([i + 172 for i in range(len(np_time[172]['np_test_avg']))], np_time[172]['np_test_avg'], color='green', label='neural predictor 172', linewidth=3)\n",
    "\n",
    "ax.vlines(x=129, ymin=0, ymax=100, colors='orange', linestyle='dotted')\n",
    "plt.plot([i + 129 for i in range(len(np_time[129]['np_test_avg']))], np_time[129]['np_test_avg'], color='orange', label='neural predictor 129', linewidth=3)\n",
    "\n",
    "ax.vlines(x=86, ymin=0, ymax=100, colors='purple', linestyle='dotted')\n",
    "plt.plot([i + 86 for i in range(len(np_time[86]['np_test_avg']))], np_time[86]['np_test_avg'], color='purple', label='neural predictor 86', linewidth=3)\n",
    "\n",
    "ax.vlines(x=43, ymin=0, ymax=100, colors='yellow', linestyle='dotted')\n",
    "plt.plot([i + 43 for i in range(len(np_time[43]['np_test_avg']))], np_time[43]['np_test_avg'], color='yellow', label='neural predictor 43', linewidth=3)\n",
    "\n",
    "\n",
    "# random search plot\n",
    "plt.plot(random_test, color='red', label='random search', linestyle='dashed', linewidth=3)\n",
    "\n",
    "# oracle line\n",
    "ax.hlines(y=oracle_test, xmin=0, xmax=2000, color='black', label='oracle', linewidth=3)\n",
    "\n",
    "# show plot with legend\n",
    "plt.legend(loc='lower right')\n",
    "plt.close()\n",
    "\n",
    "f.savefig('figures/fig7c.pdf', format='pdf', bbox_inches='tight')"
   ]
  },
  {
   "cell_type": "markdown",
   "id": "7607e7ff-042a-485f-9d55-94462234d511",
   "metadata": {},
   "source": [
    "### Ablation Study of Neural Predictor under different architectures (Appendix Fig. 1)"
   ]
  },
  {
   "cell_type": "code",
   "execution_count": 31,
   "id": "6971c05f-f126-40f2-8365-67d0de3b58a9",
   "metadata": {},
   "outputs": [],
   "source": [
    "# number of samples vs validation accuracy\n",
    "random_val = np.load('outputs/random_val_avg_2000.npy')\n",
    "random_test = np.load('outputs/random_test_avg_2000.npy')\n",
    "\n",
    "np_cnn = np.load('outputs/ablation_study_by_arch_cnn.npy', allow_pickle=True).ravel()[0]\n",
    "np_mlp = np.load('outputs/ablation_study_by_arch_mlp.npy', allow_pickle=True).ravel()[0]\n",
    "np_gcn = np.load('outputs/ablation_study_by_arch_gcn.npy', allow_pickle=True).ravel()[0]\n",
    "\n",
    "oracle_val = np.load('outputs/oracle_val_acc.npy')\n",
    "oracle_test = np.load('outputs/oracle_test_acc.npy')\n",
    "oracle_val_std = np.load('outputs/oracle_val_std.npy')\n",
    "oracle_test_std = np.load('outputs/oracle_test_std.npy')"
   ]
  },
  {
   "cell_type": "code",
   "execution_count": 32,
   "id": "462f43de-be7e-486f-8d78-bef5ecfc8861",
   "metadata": {},
   "outputs": [],
   "source": [
    "f, ax = plt.subplots(figsize=(9, 9))\n",
    "\n",
    "# axes settings\n",
    "ax.set(xlim = [0, 2000], ylim = [92.5, 95.5], xlabel='The number of samples', ylabel='Validation accuracy %',)\n",
    "\n",
    "# neural predictor plot\n",
    "ax.vlines(x=172, ymin=0, ymax=100, colors='green', linestyle='dotted')\n",
    "ax.vlines(x=172, ymin=0, ymax=100, colors='purple', linestyle='dotted')\n",
    "ax.vlines(x=172, ymin=0, ymax=100, colors='blue', linestyle='dotted')\n",
    "\n",
    "plt.plot([i + 172 for i in range(len(np_gcn['np_val_avg']))], np_gcn['np_val_avg'], color='green', label='GCN')\n",
    "plt.fill_between(range(173, 2001), y1=np.array(np_gcn['np_val_avg'])-np.array(np_gcn['np_val_std']), y2=np.array(np_gcn['np_val_avg'])+np.array(np_gcn['np_val_std']), facecolor='green', alpha=0.2)\n",
    "\n",
    "plt.plot([i + 172 for i in range(len(np_mlp['np_val_avg']))], np_mlp['np_val_avg'], color='purple', label='MLP')\n",
    "plt.fill_between(range(173, 2001), y1=np.array(np_mlp['np_val_avg'])-np.array(np_mlp['np_val_std']), y2=np.array(np_mlp['np_val_avg'])+np.array(np_mlp['np_val_std']), facecolor='purple', alpha=0.2)\n",
    "\n",
    "plt.plot([i + 172 for i in range(len(np_cnn['np_val_avg']))], np_cnn['np_val_avg'], color='blue', label='CNN')\n",
    "plt.fill_between(range(173, 2001), y1=np.array(np_cnn['np_val_avg'])-np.array(np_cnn['np_val_std']), y2=np.array(np_cnn['np_val_avg'])+np.array(np_cnn['np_val_std']), facecolor='blue', alpha=0.2)\n",
    "\n",
    "\n",
    "# random search plot\n",
    "plt.plot(random_val, color='red', label='random search', linestyle='dashed')\n",
    "# plt.fill_between(range(1, 501), y1=random_val-random_std, y2=random_val+random_std, facecolor='red', alpha=0.2)\n",
    "\n",
    "# oracle line\n",
    "ax.hlines(y=oracle_val, xmin=0, xmax=2000, color='black', label='oracle')\n",
    "ax.fill_between(range(1, 2001), y1=oracle_val-oracle_val_std, y2=oracle_val+oracle_val_std, facecolor='black', alpha=0.2)\n",
    "\n",
    "# show plot with legend\n",
    "plt.legend(loc='lower right')\n",
    "plt.close()\n",
    "\n",
    "f.savefig('figures/figA1a.pdf', format='pdf', bbox_inches='tight')"
   ]
  },
  {
   "cell_type": "code",
   "execution_count": 33,
   "id": "bc75ff88-d844-4af0-b497-3b836aa65f8c",
   "metadata": {},
   "outputs": [],
   "source": [
    "f, ax = plt.subplots(figsize=(9, 9))\n",
    "\n",
    "# axes settings\n",
    "ax.set(xlim = [0, 2000], ylim = [92, 95], xlabel='The number of samples', ylabel='Test accuracy %',)\n",
    "\n",
    "# neural predictor plot\n",
    "ax.vlines(x=172, ymin=0, ymax=100, colors='green', linestyle='dotted')\n",
    "ax.vlines(x=172, ymin=0, ymax=100, colors='purple', linestyle='dotted')\n",
    "ax.vlines(x=172, ymin=0, ymax=100, colors='blue', linestyle='dotted')\n",
    "\n",
    "plt.plot([i + 172 for i in range(len(np_gcn['np_test_avg']))], np_gcn['np_test_avg'], color='green', label='GCN')\n",
    "plt.fill_between(range(173, 2001), y1=np.array(np_gcn['np_test_avg'])-np.array(np_gcn['np_test_std']), y2=np.array(np_gcn['np_test_avg'])+np.array(np_gcn['np_test_std']), facecolor='green', alpha=0.2)\n",
    "\n",
    "plt.plot([i + 172 for i in range(len(np_mlp['np_test_avg']))], np_mlp['np_test_avg'], color='purple', label='MLP')\n",
    "plt.fill_between(range(173, 2001), y1=np.array(np_mlp['np_test_avg'])-np.array(np_mlp['np_test_std']), y2=np.array(np_mlp['np_test_avg'])+np.array(np_mlp['np_test_std']), facecolor='purple', alpha=0.2)\n",
    "\n",
    "plt.plot([i + 172 for i in range(len(np_cnn['np_test_avg']))], np_cnn['np_test_avg'], color='blue', label='CNN')\n",
    "plt.fill_between(range(173, 2001), y1=np.array(np_cnn['np_test_avg'])-np.array(np_cnn['np_test_std']), y2=np.array(np_cnn['np_test_avg'])+np.array(np_cnn['np_test_std']), facecolor='blue', alpha=0.2)\n",
    "\n",
    "\n",
    "# random search plot\n",
    "plt.plot(random_test, color='red', label='random search', linestyle='dashed')\n",
    "# plt.fill_between(range(1, 501), y1=random_test-random_std, y2=random_test+random_std, facecolor='red', alpha=0.2)\n",
    "\n",
    "# oracle line\n",
    "ax.hlines(y=oracle_test, xmin=0, xmax=2000, color='black', label='oracle')\n",
    "ax.fill_between(range(1, 2001), y1=oracle_test-oracle_test_std, y2=oracle_test+oracle_test_std, facecolor='black', alpha=0.2)\n",
    "\n",
    "# show plot with legend\n",
    "plt.legend(loc='lower right')\n",
    "plt.close()\n",
    "\n",
    "f.savefig('figures/figA1b.pdf', format='pdf', bbox_inches='tight')"
   ]
  },
  {
   "cell_type": "code",
   "execution_count": 34,
   "id": "df4c2e6d-ca6c-4ce4-95c8-90f699d8fe1e",
   "metadata": {},
   "outputs": [],
   "source": [
    "np_cnn = np.load('outputs/ablation_study_by_arch_time_cnn.npy', allow_pickle=True).ravel()[0]\n",
    "np_mlp = np.load('outputs/ablation_study_by_arch_time_mlp.npy', allow_pickle=True).ravel()[0]\n",
    "np_gcn = np.load('outputs/ablation_study_by_arch_time_gcn.npy', allow_pickle=True).ravel()[0]"
   ]
  },
  {
   "cell_type": "code",
   "execution_count": 35,
   "id": "18ecd818-2eef-4faf-b07e-2dffe421c64d",
   "metadata": {},
   "outputs": [],
   "source": [
    "f, ax = plt.subplots(figsize=(9, 9))\n",
    "\n",
    "# axes settings\n",
    "ax.set(xlim = [0, 500], ylim = [93.2, 94.75], xlabel='Total training time x 1600 (seconds)', ylabel='Test accuracy %')\n",
    "\n",
    "# neural predictor plot\n",
    "ax.vlines(x=500 - len(np_gcn['np_test_avg']), ymin=0, ymax=100, colors='green', linestyle='dotted')\n",
    "ax.vlines(x=500 - len(np_mlp['np_test_avg']), ymin=0, ymax=100, colors='purple', linestyle='dotted')\n",
    "ax.vlines(x=500 - len(np_cnn['np_test_avg']), ymin=0, ymax=100, colors='blue', linestyle='dotted')\n",
    "\n",
    "plt.plot([i + 500 - len(np_gcn['np_test_avg']) for i in range(len(np_gcn['np_test_avg']))], np_gcn['np_test_avg'], color='green', label='GCN')\n",
    "plt.fill_between(range(500 - len(np_gcn['np_test_avg']), 500), y1=np.array(np_gcn['np_test_avg'])-np.array(np_gcn['np_test_std']), y2=np.array(np_gcn['np_test_avg'])+np.array(np_gcn['np_test_std']), facecolor='green', alpha=0.2)\n",
    "\n",
    "plt.plot([i + 500 - len(np_mlp['np_test_avg']) for i in range(len(np_mlp['np_test_avg']))], np_mlp['np_test_avg'], color='purple', label='MLP')\n",
    "plt.fill_between(range(500 - len(np_mlp['np_test_avg']), 500), y1=np.array(np_mlp['np_test_avg'])-np.array(np_mlp['np_test_std']), y2=np.array(np_mlp['np_test_avg'])+np.array(np_mlp['np_test_std']), facecolor='purple', alpha=0.2)\n",
    "\n",
    "plt.plot([i + 500 - len(np_cnn['np_test_avg']) for i in range(len(np_cnn['np_test_avg']))], np_cnn['np_test_avg'], color='blue', label='CNN')\n",
    "plt.fill_between(range(500 - len(np_cnn['np_test_avg']), 500), y1=np.array(np_cnn['np_test_avg'])-np.array(np_cnn['np_test_std']), y2=np.array(np_cnn['np_test_avg'])+np.array(np_cnn['np_test_std']), facecolor='blue', alpha=0.2)\n",
    "\n",
    "\n",
    "# random search plot\n",
    "plt.plot(random_test, color='red', label='random search', linestyle='dashed')\n",
    "# plt.fill_between(range(1, 501), y1=random_test-random_std, y2=random_test+random_std, facecolor='red', alpha=0.2)\n",
    "\n",
    "# oracle line\n",
    "ax.hlines(y=oracle_test, xmin=0, xmax=500, color='black', label='oracle')\n",
    "ax.fill_between(range(1, 501), y1=oracle_test-oracle_test_std, y2=oracle_test+oracle_test_std, facecolor='black', alpha=0.2)\n",
    "\n",
    "# show plot with legend\n",
    "plt.legend(loc='lower right')\n",
    "plt.close()\n",
    "\n",
    "f.savefig('figures/figA1c.pdf', format='pdf', bbox_inches='tight')"
   ]
  },
  {
   "cell_type": "markdown",
   "id": "153d3b70-cfa8-41e5-b8f2-501b794a98db",
   "metadata": {},
   "source": [
    "### Performance of Neural Predictor (Fig. 9) -- NAS-Bench-101"
   ]
  },
  {
   "cell_type": "code",
   "execution_count": 36,
   "id": "9e6ae609-5c9a-42a6-ae33-913883bafe96",
   "metadata": {},
   "outputs": [],
   "source": [
    "sns.set_theme(style=\"whitegrid\")"
   ]
  },
  {
   "cell_type": "code",
   "execution_count": 37,
   "id": "982516cd-7b4f-491b-a6ab-01e5b0984371",
   "metadata": {},
   "outputs": [],
   "source": [
    "y_true = np.load('outputs/nasbench_y_true_train.npy')\n",
    "y_pred = np.load('outputs/nasbench_y_pred_train.npy')"
   ]
  },
  {
   "cell_type": "code",
   "execution_count": 40,
   "id": "d545dfe8-0113-41e7-9713-ff53e5e7c22d",
   "metadata": {},
   "outputs": [],
   "source": [
    "f, ax = plt.subplots(figsize=(5, 5))\n",
    "g = sns.scatterplot(x=y_pred.ravel(), y=y_true, color='red', ax=ax)\n",
    "g.plot([0, 1], [0, 1], transform=ax.transAxes, color='lightgray')\n",
    "g.set(xlabel='Predicted Model Validation Accuracy %', ylabel='Observed Model Validation Accuracy %', xlim=[80, 95.5], ylim=[80, 95.5], title=f'Training samples N={len(y_pred)}')\n",
    "f.savefig('figures/fig9a-nasbench.pdf', format='pdf', bbox_inches='tight')\n",
    "plt.close()"
   ]
  },
  {
   "cell_type": "code",
   "execution_count": 41,
   "id": "fe02f736-4c27-444d-a137-1954c563b66d",
   "metadata": {},
   "outputs": [],
   "source": [
    "y_true = np.load('outputs/nasbench_y_true_val.npy')\n",
    "y_pred = np.load('outputs/nasbench_y_pred_val.npy')"
   ]
  },
  {
   "cell_type": "code",
   "execution_count": 42,
   "id": "4d8d4e15-7b29-4b01-9bf4-0603a41baa0f",
   "metadata": {},
   "outputs": [],
   "source": [
    "f, ax = plt.subplots(figsize=(5, 5))\n",
    "g = sns.scatterplot(x=y_pred.ravel(), y=y_true, ax=ax)\n",
    "g.plot([0, 1], [0, 1], transform=ax.transAxes, color='lightgray')\n",
    "g.set(xlabel='Predicted Model Validation Accuracy %', ylabel='Observed Model Validation Accuracy %', xlim=[80, 95.5], ylim=[80, 95.5], title=f'Validation samples N={len(y_pred)}')\n",
    "f.savefig('figures/fig9b-nasbench.pdf', format='pdf', bbox_inches='tight')\n",
    "plt.close()"
   ]
  },
  {
   "cell_type": "code",
   "execution_count": 43,
   "id": "f0348978-22cf-4819-beae-91772b944ddf",
   "metadata": {},
   "outputs": [],
   "source": [
    "y_true = np.load('outputs/nasbench_y_true_test_10.npy')\n",
    "y_pred = np.load('outputs/nasbench_y_pred_test_10.npy')"
   ]
  },
  {
   "cell_type": "code",
   "execution_count": 45,
   "id": "a60b507e-ec9b-49a8-9ac3-383267fa4c4d",
   "metadata": {},
   "outputs": [],
   "source": [
    "f, ax = plt.subplots(figsize=(5, 5))\n",
    "g = sns.scatterplot(x=y_pred, y=y_true, color='green', ax=ax)\n",
    "g.plot([0, 1], [0, 1], transform=ax.transAxes, color='lightgray')\n",
    "g.set(xlabel='Predicted Model Validation Accuracy %', ylabel='Observed Model Validation Accuracy %', xlim=[82.5, 100], ylim=[82.5, 100], title=f'Test samples N={len(y_pred)}')\n",
    "f.savefig('figures/fig9c-nasbench.pdf', format='pdf', bbox_inches='tight')\n",
    "plt.close()"
   ]
  },
  {
   "cell_type": "markdown",
   "id": "5c0bb968-2ba9-439d-ad56-9a29fd69dd6a",
   "metadata": {},
   "source": [
    "### Two-stage Neural Predictor"
   ]
  },
  {
   "cell_type": "code",
   "execution_count": 3,
   "id": "a292bc95-5b62-47f1-b3c8-1fbb71781893",
   "metadata": {},
   "outputs": [],
   "source": [
    "y_true = np.load('outputs/nasbench_two_y_true_train.npy')\n",
    "y_pred = np.load('outputs/nasbench_two_y_pred_train.npy')"
   ]
  },
  {
   "cell_type": "code",
   "execution_count": 4,
   "id": "124ae214-2b6a-449e-ba7e-a1dc2832b2ff",
   "metadata": {},
   "outputs": [],
   "source": [
    "f, ax = plt.subplots(figsize=(5, 5))\n",
    "g = sns.scatterplot(x=y_pred, y=y_true, color='red', ax=ax)\n",
    "g.plot([0, 1], [0, 1], transform=ax.transAxes, color='lightgray')\n",
    "g.set(xlabel='Predicted Model Validation Accuracy %', ylabel='Observed Model Validation Accuracy %', xlim=[91, 95.5], ylim=[91, 95.5], title=f'Training samples N={len(y_pred)}')\n",
    "f.savefig('figures/fig9a-nashbench-two.pdf', format='pdf', bbox_inches='tight')\n",
    "plt.close()"
   ]
  },
  {
   "cell_type": "code",
   "execution_count": 5,
   "id": "1c132998-f616-4f55-aaf8-ce79c8087de1",
   "metadata": {},
   "outputs": [],
   "source": [
    "y_true = np.load('outputs/nasbench_two_y_true_val.npy')\n",
    "y_pred = np.load('outputs/nasbench_two_y_pred_val.npy')"
   ]
  },
  {
   "cell_type": "code",
   "execution_count": 6,
   "id": "48b04bf8-536a-4bf3-82b6-8e7bf8fd5776",
   "metadata": {},
   "outputs": [],
   "source": [
    "f, ax = plt.subplots(figsize=(5, 5))\n",
    "g = sns.scatterplot(x=y_pred, y=y_true, ax=ax)\n",
    "g.plot([0, 1], [0, 1], transform=ax.transAxes, color='lightgray')\n",
    "g.set(xlabel='Predicted Model Validation Accuracy %', ylabel='Observed Model Validation Accuracy %', xlim=[91, 95.5], ylim=[91, 95.5], title=f'Validation samples N={len(y_pred)}')\n",
    "f.savefig('figures/fig9b-nashbench-two.pdf', format='pdf', bbox_inches='tight')\n",
    "plt.close()"
   ]
  },
  {
   "cell_type": "code",
   "execution_count": 7,
   "id": "d43dcad4-64a7-4598-b4d6-d7be854fc59b",
   "metadata": {},
   "outputs": [],
   "source": [
    "y_true = np.load('outputs/nasbench_two_y_true_test_10.npy')\n",
    "y_pred = np.load('outputs/nasbench_two_y_pred_test_10.npy')"
   ]
  },
  {
   "cell_type": "code",
   "execution_count": 8,
   "id": "b57df644-614a-457f-aa9f-5f6120f8b42a",
   "metadata": {},
   "outputs": [],
   "source": [
    "f, ax = plt.subplots(figsize=(5, 5))\n",
    "g = sns.scatterplot(x=y_pred, y=y_true, color='green', ax=ax)\n",
    "g.plot([0, 1], [0, 1], transform=ax.transAxes, color='lightgray')\n",
    "g.set(xlabel='Predicted Model Validation Accuracy %', ylabel='Observed Model Validation Accuracy %', xlim=[89, 99], ylim=[89, 99], title=f'Test samples N={len(y_pred)}')\n",
    "f.savefig('figures/fig9c-nashbench-two.pdf', format='pdf', bbox_inches='tight')\n",
    "plt.close()"
   ]
  },
  {
   "cell_type": "code",
   "execution_count": null,
   "id": "f8721686-ea8d-46cd-809c-b76f5f3b7208",
   "metadata": {},
   "outputs": [],
   "source": []
  }
 ],
 "metadata": {
  "kernelspec": {
   "display_name": "Python 3",
   "language": "python",
   "name": "python3"
  },
  "language_info": {
   "codemirror_mode": {
    "name": "ipython",
    "version": 3
   },
   "file_extension": ".py",
   "mimetype": "text/x-python",
   "name": "python",
   "nbconvert_exporter": "python",
   "pygments_lexer": "ipython3",
   "version": "3.7.10"
  }
 },
 "nbformat": 4,
 "nbformat_minor": 5
}
