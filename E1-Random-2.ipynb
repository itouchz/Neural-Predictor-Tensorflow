{
 "cells": [
  {
   "cell_type": "code",
   "execution_count": 1,
   "id": "8fbbd622-5107-41ac-a4de-1413b60d2665",
   "metadata": {},
   "outputs": [],
   "source": [
    "import os\n",
    "import random\n",
    "import numpy as np\n",
    "import pandas as pd\n",
    "import tensorflow as tf\n",
    "\n",
    "from tqdm.notebook import tqdm\n",
    "from nasbench import api\n",
    "from search_spaces import load_nasbench_101\n",
    "from random_search import run_random_search, random_spec"
   ]
  },
  {
   "cell_type": "code",
   "execution_count": 2,
   "id": "2883042e-302e-4d71-ab34-d0a05da798b6",
   "metadata": {},
   "outputs": [],
   "source": [
    "os.environ[\"CUDA_DEVICE_ORDER\"] = \"PCI_BUS_ID\"\n",
    "os.environ[\"CUDA_VISIBLE_DEVICES\"] = \"1\"\n",
    "os.environ[\"TF_FORCE_GPU_ALLOW_GROWTH\"] = \"true\""
   ]
  },
  {
   "cell_type": "code",
   "execution_count": 3,
   "id": "9afe4157-edd1-426d-83d2-a2cb5fe03c12",
   "metadata": {},
   "outputs": [
    {
     "name": "stdout",
     "output_type": "stream",
     "text": [
      "Loading dataset from file... This may take a few minutes...\n",
      "WARNING:tensorflow:From /data2/home/patara/CS470-Project-Team3/nasbench/api.py:146: tf_record_iterator (from tensorflow.python.lib.io.tf_record) is deprecated and will be removed in a future version.\n",
      "Instructions for updating:\n",
      "Use eager execution and: \n",
      "`tf.data.TFRecordDataset(path)`\n",
      "Loaded dataset in 45 seconds\n"
     ]
    }
   ],
   "source": [
    "nasbench = load_nasbench_101()"
   ]
  },
  {
   "cell_type": "code",
   "execution_count": 4,
   "id": "05280809-7d54-4477-9233-7b0b1794de5c",
   "metadata": {},
   "outputs": [],
   "source": [
    "# Change the experiment setting here\n",
    "# 600 runs, max 5000 samples, time limit set to 8e6 according to the paper\n",
    "\n",
    "LOOPS = 60\n",
    "MAX_SAMPLES = 500\n",
    "MAX_TIME_BUDGET = 8e5"
   ]
  },
  {
   "cell_type": "code",
   "execution_count": 5,
   "id": "7590cdd2-273c-4dd0-934d-10159534aeae",
   "metadata": {},
   "outputs": [
    {
     "data": {
      "application/vnd.jupyter.widget-view+json": {
       "model_id": "197ec371207e4ac29283374aa03e26f3",
       "version_major": 2,
       "version_minor": 0
      },
      "text/plain": [
       "  0%|          | 0/500 [00:00<?, ?it/s]"
      ]
     },
     "metadata": {},
     "output_type": "display_data"
    }
   ],
   "source": [
    "random_val_avg, random_test_avg = [], []\n",
    "random_val_std, random_test_std = [], []\n",
    "\n",
    "val_acc, test_acc = [], []\n",
    "for budget in tqdm(range(0, int(MAX_TIME_BUDGET), 1600)): # 500 loops\n",
    "    loop_val, loop_test = [], []\n",
    "\n",
    "    for _ in range(LOOPS):\n",
    "        time, best_val, best_test = run_random_search(nasbench, max_time_budget=budget)\n",
    "\n",
    "        loop_val.append(np.max(best_val) * 100)\n",
    "        loop_test.append(np.max(best_test) * 100)\n",
    "    \n",
    "    val_acc.append(np.mean(loop_val))\n",
    "    test_acc.append(np.mean(loop_test))\n",
    "    \n",
    "    random_val_avg.append(np.max(val_acc))\n",
    "    random_val_std.append(np.std(loop_val))\n",
    "    \n",
    "    random_test_avg.append(np.max(test_acc))\n",
    "    random_test_std.append(np.std(loop_test))"
   ]
  },
  {
   "cell_type": "code",
   "execution_count": 6,
   "id": "d84696d8-d0d7-4780-a1cb-471c300835fc",
   "metadata": {},
   "outputs": [],
   "source": [
    "np.save('outputs/random_val_avg_by_time.npy', random_val_avg)\n",
    "np.save('outputs/random_val_std_by_time.npy', random_val_std)\n",
    "np.save('outputs/random_test_avg_by_time.npy', random_test_avg)\n",
    "np.save('outputs/random_test_std_by_time.npy', random_test_std)"
   ]
  },
  {
   "cell_type": "code",
   "execution_count": null,
   "id": "125e0f91-fb19-44e6-ac37-314079ddb5c5",
   "metadata": {},
   "outputs": [],
   "source": []
  }
 ],
 "metadata": {
  "kernelspec": {
   "display_name": "Python 3",
   "language": "python",
   "name": "python3"
  },
  "language_info": {
   "codemirror_mode": {
    "name": "ipython",
    "version": 3
   },
   "file_extension": ".py",
   "mimetype": "text/x-python",
   "name": "python",
   "nbconvert_exporter": "python",
   "pygments_lexer": "ipython3",
   "version": "3.9.4"
  }
 },
 "nbformat": 4,
 "nbformat_minor": 5
}
