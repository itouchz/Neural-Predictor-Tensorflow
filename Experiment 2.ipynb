{
 "metadata": {
  "language_info": {
   "codemirror_mode": {
    "name": "ipython",
    "version": 3
   },
   "file_extension": ".py",
   "mimetype": "text/x-python",
   "name": "python",
   "nbconvert_exporter": "python",
   "pygments_lexer": "ipython3",
   "version": "3.8.8"
  },
  "orig_nbformat": 2,
  "kernelspec": {
   "name": "python388jvsc74a57bd0b3ba2566441a7c06988d0923437866b63cedc61552a5af99d1f4fb67d367b25f",
   "display_name": "Python 3.8.8 64-bit ('base': conda)"
  }
 },
 "nbformat": 4,
 "nbformat_minor": 2,
 "cells": [
  {
   "cell_type": "code",
   "execution_count": 1,
   "metadata": {},
   "outputs": [],
   "source": [
    "import os\n",
    "import random\n",
    "from proxylessnas.backbone import SuperProxylessNAS\n",
    "from itertools import product"
   ]
  },
  {
   "cell_type": "code",
   "execution_count": 2,
   "metadata": {},
   "outputs": [],
   "source": [
    "os.environ[\"CUDA_DEVICE_ORDER\"] = \"PCI_BUS_ID\"\n",
    "os.environ[\"CUDA_VISIBLE_DEVICES\"] = \"0\"\n",
    "os.environ[\"TF_FORCE_GPU_ALLOW_GROWTH\"] = \"true\""
   ]
  },
  {
   "source": [
    "## ImageNet Experiments"
   ],
   "cell_type": "markdown",
   "metadata": {}
  },
  {
   "source": [
    "### ProxylessNAS Search Space Data Preprocessing"
   ],
   "cell_type": "markdown",
   "metadata": {}
  },
  {
   "cell_type": "code",
   "execution_count": null,
   "metadata": {},
   "outputs": [],
   "source": [
    "def random_rep(num_reps=1):\n",
    "    def help_random():\n",
    "        first_layer = list(range(3))\n",
    "        no_zero = list(range(6))\n",
    "        with_zero = list(range(7))\n",
    "\n",
    "        one_hot_rep = (choice(first_layer), \n",
    "                       choice(no_zero), choice(with_zero), choice(with_zero), choice(with_zero),\n",
    "                       choice(no_zero), choice(with_zero), choice(with_zero), choice(with_zero),\n",
    "                       choice(no_zero), choice(with_zero), choice(with_zero), choice(with_zero),\n",
    "                       choice(no_zero), choice(with_zero), choice(with_zero), choice(with_zero),\n",
    "                       choice(no_zero), choice(with_zero), choice(with_zero), choice(with_zero),\n",
    "                       choice(no_zero))\n",
    "        return one_hot_rep\n",
    "    \n",
    "    rep_set = set()\n",
    "\n",
    "    while len(rep_set) < num_reps:\n",
    "        rep = help_random()\n",
    "        while rep in rep_set:\n",
    "            rep = help_random()\n",
    "        rep_set.add(rep)\n",
    "    return list(rep_set)"
   ]
  },
  {
   "cell_type": "code",
   "execution_count": null,
   "metadata": {},
   "outputs": [],
   "source": [
    "reps = random_rep(256)\n",
    "best_accuracy = 0\n",
    "best_model = None\n",
    "\n",
    "for rep in reps:\n",
    "    model = SuperProxylessNAS(weights=None, arch_kernel=rep)\n",
    "    lr_schedule = keras.optimizers.schedules.CosineDecay(0.001)\n",
    "    model.compile(optimizers=tf.keras.optimizers.RMSprop(learning_rate=lr_schedule, rho=0.9, momentum=0.9, epsilon=0.1))\n",
    "    # model.fit(train)\n",
    "    # loss, accuracy = model.evaluate(test)\n",
    "    if accuracy > best_accuracy: \n",
    "        best_model = model"
   ]
  },
  {
   "source": [
    "### Training and Validating the Neural Predictor"
   ],
   "cell_type": "markdown",
   "metadata": {}
  },
  {
   "cell_type": "code",
   "execution_count": null,
   "metadata": {},
   "outputs": [],
   "source": []
  },
  {
   "source": [
    "### Looking at the Predictive Performance of the Predictor"
   ],
   "cell_type": "markdown",
   "metadata": {}
  },
  {
   "cell_type": "code",
   "execution_count": null,
   "metadata": {},
   "outputs": [],
   "source": []
  },
  {
   "source": [
    "### Finding High Quality Mobile Sized Models"
   ],
   "cell_type": "markdown",
   "metadata": {}
  },
  {
   "cell_type": "code",
   "execution_count": null,
   "metadata": {},
   "outputs": [],
   "source": []
  }
 ]
}