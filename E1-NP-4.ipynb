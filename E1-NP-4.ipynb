{
 "cells": [
  {
   "cell_type": "code",
   "execution_count": 1,
   "id": "8fbbd622-5107-41ac-a4de-1413b60d2665",
   "metadata": {},
   "outputs": [],
   "source": [
    "import os\n",
    "import random\n",
    "import numpy as np\n",
    "import pandas as pd\n",
    "import tensorflow as tf\n",
    "\n",
    "from tqdm.notebook import tqdm\n",
    "from nasbench import api\n",
    "from search_spaces import load_nasbench_101\n",
    "from random_search import run_random_search, random_spec\n",
    "from neural_predictor import classifier, regressor\n",
    "from input_preprocessing import preprocess_nasbench"
   ]
  },
  {
   "cell_type": "code",
   "execution_count": 2,
   "id": "2883042e-302e-4d71-ab34-d0a05da798b6",
   "metadata": {},
   "outputs": [],
   "source": [
    "os.environ[\"CUDA_DEVICE_ORDER\"] = \"PCI_BUS_ID\"\n",
    "os.environ[\"CUDA_VISIBLE_DEVICES\"] = \"1\"\n",
    "os.environ[\"TF_FORCE_GPU_ALLOW_GROWTH\"] = \"true\""
   ]
  },
  {
   "cell_type": "code",
   "execution_count": 3,
   "id": "9afe4157-edd1-426d-83d2-a2cb5fe03c12",
   "metadata": {},
   "outputs": [
    {
     "name": "stdout",
     "output_type": "stream",
     "text": [
      "Loading dataset from file... This may take a few minutes...\n",
      "WARNING:tensorflow:From /data2/home/patara/CS470-Project-Team3/nasbench/api.py:146: tf_record_iterator (from tensorflow.python.lib.io.tf_record) is deprecated and will be removed in a future version.\n",
      "Instructions for updating:\n",
      "Use eager execution and: \n",
      "`tf.data.TFRecordDataset(path)`\n",
      "Loaded dataset in 45 seconds\n"
     ]
    }
   ],
   "source": [
    "nasbench = load_nasbench_101()"
   ]
  },
  {
   "cell_type": "markdown",
   "id": "48d3374c-d930-47b4-bdaa-0aad1b10ad0e",
   "metadata": {},
   "source": [
    "### Two-stage vs One-stage prediction 10 split (N=172)"
   ]
  },
  {
   "cell_type": "code",
   "execution_count": 4,
   "id": "574d77e8-4f9b-45e7-85bb-d8e9396653e4",
   "metadata": {},
   "outputs": [],
   "source": [
    "N = 172"
   ]
  },
  {
   "cell_type": "code",
   "execution_count": 5,
   "id": "d010eb05-a068-4c7f-ba01-2c0d9607b143",
   "metadata": {},
   "outputs": [],
   "source": [
    "def get_N_samples(N):\n",
    "    models = []\n",
    "\n",
    "    for _ in range(N):\n",
    "        while True:\n",
    "            model = random_spec(nasbench)\n",
    "            if model not in models:\n",
    "                models.append(nasbench.query(model))\n",
    "                break\n",
    "                \n",
    "    return preprocess_nasbench(models)"
   ]
  },
  {
   "cell_type": "code",
   "execution_count": 6,
   "id": "d38f5a6b-5ba8-46ea-a8c6-fc310ff4e966",
   "metadata": {},
   "outputs": [],
   "source": [
    "train_clf_data = get_N_samples(N)\n",
    "clf = classifier([train_clf_data['X'], train_clf_data['norm_A'], train_clf_data['norm_AT']], train_clf_data['labels'])"
   ]
  },
  {
   "cell_type": "code",
   "execution_count": 7,
   "id": "0830c74b-944f-4dc0-8183-aa4c4abee969",
   "metadata": {},
   "outputs": [],
   "source": [
    "train_data = get_N_samples(N)\n",
    "reg = regressor([train_data['X'], train_data['norm_A'], train_data['norm_AT']], train_data['val_acc'])\n",
    "train_time = np.sum(train_data['times'])"
   ]
  },
  {
   "cell_type": "code",
   "execution_count": 8,
   "id": "fc4f82fd-985c-4e99-838f-7d9b3ea24ca0",
   "metadata": {},
   "outputs": [],
   "source": [
    "LOOPS = 60\n",
    "MAX_SAMPLES = 500\n",
    "MAX_TIME_BUDGET = 8e5"
   ]
  },
  {
   "cell_type": "markdown",
   "id": "6af1f056-bd61-4735-b7ab-606cf3568190",
   "metadata": {},
   "source": [
    "### Two-stage"
   ]
  },
  {
   "cell_type": "code",
   "execution_count": 9,
   "id": "7a338813-c302-432e-82cb-cf981652b80b",
   "metadata": {},
   "outputs": [
    {
     "data": {
      "application/vnd.jupyter.widget-view+json": {
       "model_id": "92b04e4602cb4c339d5638f3631dc0d2",
       "version_major": 2,
       "version_minor": 0
      },
      "text/plain": [
       "  0%|          | 0/370 [00:00<?, ?it/s]"
      ]
     },
     "metadata": {},
     "output_type": "display_data"
    }
   ],
   "source": [
    "np_val_avg, np_test_avg = [], []\n",
    "np_val_std, np_test_std = [], []\n",
    "\n",
    "val_acc, test_acc = [], []\n",
    "for budget in tqdm(range(int(train_time), int(MAX_TIME_BUDGET), 1600)): # 5000 loops\n",
    "        \n",
    "    loop_val, loop_test = [], []\n",
    "    for _ in range(LOOPS):\n",
    "        time_spent = 0\n",
    "        test_models = get_N_samples(N+budget//100)\n",
    "        \n",
    "        for i in range(len(test_models['times'])):\n",
    "            time_spent = time_spent + test_models['times'][i]\n",
    "            if time_spent >= budget:\n",
    "                break\n",
    "        \n",
    "        test_models['X'] = test_models['X'][:i]\n",
    "        test_models['norm_A'] = test_models['norm_A'][:i]\n",
    "        test_models['norm_AT'] = test_models['norm_AT'][:i]\n",
    "        test_models['val_acc'] = test_models['val_acc'][:i]\n",
    "        test_models['test_acc'] = test_models['test_acc'][:i]\n",
    "        \n",
    "        filtered_models = clf.predict([test_models['X'], test_models['norm_A'], test_models['norm_AT']])\n",
    "\n",
    "        idx = np.where(filtered_models > 0.50)[0]\n",
    "        X = test_models['X'][idx]\n",
    "        A = test_models['norm_A'][idx]\n",
    "        AT = test_models['norm_AT'][idx]\n",
    "        labels = test_models['val_acc'][idx]\n",
    "        test_labels = test_models['test_acc'][idx]\n",
    "        \n",
    "        pred_acc = reg.predict([X, A, AT]).ravel()\n",
    "        \n",
    "        selected_val = labels\n",
    "        selected_test = test_labels\n",
    "        \n",
    "        best_val_idx = np.argmax(selected_val)\n",
    "        \n",
    "        loop_val.append(selected_val[best_val_idx])\n",
    "        loop_test.append(selected_test[best_val_idx])\n",
    "\n",
    "    val_acc.append(np.mean(loop_val))\n",
    "    test_acc.append(np.mean(loop_test))\n",
    "    \n",
    "    np_val_avg.append(np.max(val_acc))\n",
    "    np_val_std.append(np.std(loop_val))\n",
    "    \n",
    "    np_test_avg.append(np.max(test_acc))\n",
    "    np_test_std.append(np.std(loop_test))"
   ]
  },
  {
   "cell_type": "code",
   "execution_count": 10,
   "id": "8299fd95-f9e6-43d2-b4d6-a633459630af",
   "metadata": {},
   "outputs": [],
   "source": [
    "np.save('outputs/np2_val_avg_by_time.npy', np_val_avg)\n",
    "np.save('outputs/np2_val_std_by_time.npy', np_val_std)\n",
    "np.save('outputs/np2_test_avg_by_time.npy', np_test_avg)\n",
    "np.save('outputs/np2_test_std_by_time.npy', np_test_std)"
   ]
  },
  {
   "cell_type": "code",
   "execution_count": null,
   "id": "8b57b526-f291-4ced-a415-da8875ae80ab",
   "metadata": {},
   "outputs": [],
   "source": []
  }
 ],
 "metadata": {
  "kernelspec": {
   "display_name": "Python 3",
   "language": "python",
   "name": "python3"
  },
  "language_info": {
   "codemirror_mode": {
    "name": "ipython",
    "version": 3
   },
   "file_extension": ".py",
   "mimetype": "text/x-python",
   "name": "python",
   "nbconvert_exporter": "python",
   "pygments_lexer": "ipython3",
   "version": "3.9.4"
  }
 },
 "nbformat": 4,
 "nbformat_minor": 5
}
